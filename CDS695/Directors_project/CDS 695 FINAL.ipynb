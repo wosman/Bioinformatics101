{
 "cells": [
  {
   "cell_type": "markdown",
   "metadata": {},
   "source": [
    "Final Exam: K Nearest Neighbors"
   ]
  },
  {
   "cell_type": "code",
   "execution_count": 1,
   "metadata": {
    "collapsed": false
   },
   "outputs": [
    {
     "name": "stderr",
     "output_type": "stream",
     "text": [
      "/usr/local/lib/python3.6/site-packages/sklearn/cross_validation.py:41: DeprecationWarning: This module was deprecated in version 0.18 in favor of the model_selection module into which all the refactored classes and functions are moved. Also note that the interface of the new CV iterators are different from that of this module. This module will be removed in 0.20.\n",
      "  \"This module will be removed in 0.20.\", DeprecationWarning)\n"
     ]
    }
   ],
   "source": [
    "# Import libraries\n",
    "import numpy as np\n",
    "import pandas as pd\n",
    "import pymysql\n",
    "from sklearn.cross_validation import train_test_split\n",
    "from sklearn.metrics import f1_score\n",
    "from sklearn.metrics import precision_score\n",
    "from sklearn.neighbors import KNeighborsClassifier\n",
    "from sklearn.metrics import confusion_matrix\n",
    "from sklearn.neighbors import KNeighborsClassifier\n",
    "import numpy as np\n",
    "import pandas as pd\n",
    "import matplotlib.pyplot as plt\n",
    "from sklearn.cross_validation import train_test_split\n",
    "from sklearn.neighbors import KNeighborsClassifier\n",
    "from sklearn.metrics import accuracy_score\n",
    "from sklearn.cross_validation import cross_val_score\n",
    "from collections import Counter\n",
    "from sklearn import metrics\n",
    "import matplotlib.pyplot as plt\n",
    "import time\n",
    "import warnings\n",
    "warnings.filterwarnings('ignore')"
   ]
  },
  {
   "cell_type": "code",
   "execution_count": 2,
   "metadata": {
    "collapsed": true
   },
   "outputs": [],
   "source": [
    "# Establish Connection\n",
    "connection = pymysql.connect(host='localhost',\n",
    "                             user='root',\n",
    "                             password='v7vsiuel',\n",
    "                             db='cds695',\n",
    "                             cursorclass=pymysql.cursors.DictCursor)\n",
    "cursor = connection.cursor()"
   ]
  },
  {
   "cell_type": "code",
   "execution_count": 3,
   "metadata": {
    "collapsed": true
   },
   "outputs": [],
   "source": [
    "\n",
    "sql_query = \"\"\"\n",
    "SELECT\n",
    "    institution.Institutions,\n",
    "    companies_combined.FullName As Company_Name,\n",
    "    countries.country AS Resident_Country,\n",
    "    people.FullName\n",
    "\n",
    "FROM people\n",
    "    LEFT JOIN educationofeople on educationofeople.People_ID = people.Dir_ID\n",
    "    LEFT JOIN institution on institution.Institutions_ID = educationofeople.Institutions_ID\n",
    "    LEFT JOIN countries on countries.country_ID = people.Resident_Countr_ID\n",
    "    LEFT JOIN peopleandcompanies on peopleandcompanies.People_ID = people.Dir_ID\n",
    "    LEFT JOIN companies_combined on companies_combined.Company_ID = peopleandcompanies.Company_ID\n",
    "\"\"\"\n"
   ]
  },
  {
   "cell_type": "code",
   "execution_count": 4,
   "metadata": {
    "collapsed": false
   },
   "outputs": [
    {
     "name": "stdout",
     "output_type": "stream",
     "text": [
      "Directors data read successfully!\n",
      "Number of features: 4\n",
      "Shape of dataset: (8184, 4)\n"
     ]
    }
   ],
   "source": [
    "# Read Directors data from database using the following SQL query\n",
    "\n",
    "\n",
    "# sql_query = \"\"\"\n",
    "# SELECT\n",
    "#     education_title.title as Education_title,\n",
    "#     institution.Institutions,\n",
    "#     companies_combined.FullName As Company_Name,\n",
    "#     countries.country AS Resident_Country,\n",
    "#     peopleandcompanies.Role,\n",
    "#     military_position.Rank,\n",
    "#     military_branch.Branch,\n",
    "#     people.FullName\n",
    "\n",
    "# FROM people\n",
    "#     LEFT JOIN militarystatus on militarystatus.People_ID = people.Dir_ID\n",
    "#     LEFT JOIN military_position on military_position.Military_ID = militarystatus.Military_ID\n",
    "#     LEFT JOIN military_branch on military_branch.Branch_ID = militarystatus.Branch_ID\n",
    "#     LEFT JOIN educationofeople on educationofeople.People_ID = people.Dir_ID\n",
    "#     LEFT JOIN institution on institution.Institutions_ID = educationofeople.Institutions_ID\n",
    "#     LEFT JOIN education_title ON education_title.title_ID = educationofeople.educ_title_ID\n",
    "#     LEFT JOIN countries on countries.country_ID = people.Resident_Countr_ID\n",
    "#     LEFT JOIN peopleandcompanies on peopleandcompanies.People_ID = people.Dir_ID\n",
    "#     LEFT JOIN companies_combined on companies_combined.Company_ID = peopleandcompanies.Company_ID\n",
    "\n",
    "# \"\"\"\n",
    "\n",
    "\n",
    "\n",
    "df_directors = pd.read_sql(sql_query, connection)\n",
    "\n",
    "\n",
    "col_names = df_directors.columns.tolist()\n",
    "\n",
    "print(\"Directors data read successfully!\")\n",
    "print('Number of features: {}'.format(len(col_names)))\n",
    "print('Shape of dataset: {}'.format(df_directors.shape))"
   ]
  },
  {
   "cell_type": "code",
   "execution_count": 5,
   "metadata": {
    "collapsed": false
   },
   "outputs": [
    {
     "name": "stdout",
     "output_type": "stream",
     "text": [
      "(8184, 4)\n",
      "Institutions        6729\n",
      "Company_Name        5004\n",
      "Resident_Country    1881\n",
      "FullName               0\n",
      "dtype: int64\n",
      "***********************************************\n",
      "(1127, 4)\n",
      "Institutions        0\n",
      "Company_Name        0\n",
      "Resident_Country    0\n",
      "FullName            0\n",
      "dtype: int64\n"
     ]
    }
   ],
   "source": [
    "# Examine features\n",
    "print(df_directors.shape)\n",
    "print(df_directors.isnull().sum()) # count the missing values in each column\n",
    "\n",
    "# Replace missing values\n",
    "\n",
    "# Drop a row if ANY values are missing, defaults to rows, but can be applied to columns with axis=1\n",
    "df_directors.dropna(inplace=True)\n",
    "\n",
    "print('***********************************************')\n",
    "print(df_directors.shape)\n",
    "print(df_directors.isnull().sum()) # count the missing values in each column"
   ]
  },
  {
   "cell_type": "code",
   "execution_count": 6,
   "metadata": {
    "collapsed": false
   },
   "outputs": [
    {
     "name": "stdout",
     "output_type": "stream",
     "text": [
      "Total number of n_directors: 1127\n",
      "Number of n_directors who n_usa_residence: 379\n",
      "Number of n_directors who n_international_residence: 748\n",
      "Number of features: 3\n",
      "Percentage of USA residence of the directors: 33.63%\n"
     ]
    }
   ],
   "source": [
    "# TODO: Compute desired values - replace each '?' with an appropriate expression/function call\n",
    "n_directors = df_directors.index.size\n",
    "n_features = df_directors.columns.size - 1\n",
    "n_usa_residence = df_directors[df_directors['Resident_Country'] == 'USA\\r' ].index.size\n",
    "n_international_residence = n_directors - n_usa_residence\n",
    "usa_rate = 100*float(n_usa_residence) / float(n_directors)\n",
    "print(\"Total number of n_directors: {}\".format(n_directors))\n",
    "print(\"Number of n_directors who n_usa_residence: {}\".format(n_usa_residence))\n",
    "print(\"Number of n_directors who n_international_residence: {}\".format(n_international_residence))\n",
    "print(\"Number of features: {}\".format(n_features))\n",
    "print(\"Percentage of USA residence of the directors: {:.2f}%\".format(usa_rate))"
   ]
  },
  {
   "cell_type": "code",
   "execution_count": 7,
   "metadata": {
    "collapsed": false
   },
   "outputs": [
    {
     "name": "stdout",
     "output_type": "stream",
     "text": [
      "Feature column(s):-\n",
      "['Institutions', 'Company_Name', 'Resident_Country']\n",
      "Target column: FullName\n"
     ]
    }
   ],
   "source": [
    "# Extract feature (X) and target (y) columns\n",
    "feature_cols = list(df_directors.columns[:-1])  # all columns but last are features\n",
    "target_col = df_directors.columns[-1]  # last column is the target/label\n",
    "print(\"Feature column(s):-\\n{}\".format(feature_cols))\n",
    "print(\"Target column: {}\".format(target_col))\n",
    "\n",
    "X_all = df_directors[feature_cols]  # feature values for all students\n",
    "y_all = df_directors[target_col]  # corresponding targets/labels"
   ]
  },
  {
   "cell_type": "code",
   "execution_count": 8,
   "metadata": {
    "collapsed": false
   },
   "outputs": [],
   "source": [
    "# Preprocess feature columns \"Hot Encoding\"\n",
    "# Convert categorical variable into dummy/indicator variables\n",
    "def preprocess_features(X):\n",
    "    outX = pd.DataFrame(index=X.index)  # output dataframe, initially empty\n",
    "\n",
    "    # Check each column\n",
    "    for col, col_data in X.iteritems():\n",
    "        col_data = pd.get_dummies(col_data, prefix=col)  # e.g. 'institution' => 'institution_harvard', 'institution_MS'\n",
    "        outX = outX.join(col_data)  # collect column(s) in output dataframe\n",
    "    return outX\n",
    "\n",
    "X_all = preprocess_features(X_all)\n",
    "# print(\"Processed feature columns ({}):-\\n{}\".format(len(X_all.columns), list(X_all.columns)))"
   ]
  },
  {
   "cell_type": "code",
   "execution_count": 9,
   "metadata": {
    "collapsed": false
   },
   "outputs": [
    {
     "name": "stdout",
     "output_type": "stream",
     "text": [
      "Training set: 845 samples\n",
      "Test set: 282 samples\n"
     ]
    }
   ],
   "source": [
    "# First, decide how many training vs test samples you want\n",
    "num_all = df_directors.shape[0] \n",
    "num_train = int(.75 * num_all)  # about 75% of the data\n",
    "num_test = num_all - num_train\n",
    "\n",
    "# Select features (X) and corresponding labels (y) for the training and test sets\n",
    "# Shuffle the data or randomly select samples to avoid any bias due to ordering in the dataset\n",
    "\n",
    "X_train, X_test, y_train, y_test = train_test_split( X_all , y_all , test_size = num_test, random_state=42)\n",
    "\n",
    "print(\"Training set: {} samples\".format(X_train.shape[0]))\n",
    "print(\"Test set: {} samples\".format(X_test.shape[0]))\n"
   ]
  },
  {
   "cell_type": "code",
   "execution_count": 10,
   "metadata": {
    "collapsed": true
   },
   "outputs": [],
   "source": [
    "# Train a model, Fit the model using X as training data and y as target values\n",
    "\n",
    "def train_classifier(clf, X_train, y_train):\n",
    "    #print \"Training {}...\".format(clf.__class__.__name__)\n",
    "    start = time.time()\n",
    "    clf.fit(X_train, y_train)\n",
    "    end = time.time()\n",
    "    #print \"Training time (secs): {:.7f}\".format(end - start)\n",
    "    return end-start"
   ]
  },
  {
   "cell_type": "code",
   "execution_count": 11,
   "metadata": {
    "collapsed": true
   },
   "outputs": [],
   "source": [
    "# Predict the class labels for the provided data on training set and compute F1 score\n",
    "\n",
    "'''Compute the F1 score, also known as balanced F-score or F-measure\n",
    "\n",
    "The F1 score can be interpreted as a weighted average of the precision and recall, \n",
    "where an F1 score reaches its best value at 1 and worst score at 0. \n",
    "The relative contribution of precision and recall to the F1 score are equal. \n",
    "\n",
    "The formula for the F1 score is:\n",
    "\n",
    "F1 = 2 * (precision * recall) / (precision + recall)'''\n",
    "\n",
    "def predict_labels(clf, features, target):\n",
    "    #print \"Predicting labels using {}...\".format(clf.__class__.__name__)\n",
    "    start = time.time()\n",
    "    y_pred = clf.predict(features)\n",
    "    end = time.time()\n",
    "    return f1_score(target.values, y_pred, pos_label=1, average='weighted'), end-start"
   ]
  },
  {
   "cell_type": "code",
   "execution_count": 12,
   "metadata": {
    "collapsed": false
   },
   "outputs": [],
   "source": [
    "# Train and predict using different training set sizes\n",
    "def train_predict(clf, X_train, y_train, X_test, y_test):\n",
    "    #print \"------------------------------------------\"\n",
    "    #print \"Training set size: {}\".format(len(X_train))\n",
    "    training_time = train_classifier(clf, X_train, y_train)\n",
    "    F1_train, pred_time_train = predict_labels(clf, X_train, y_train)\n",
    "    F1_test, pred_time_test = predict_labels(clf, X_test, y_test)\n",
    "    print(\"{:d} | {:5f} | {:5f} / {:5f} | {:5f} / {:5f} \".format(len(X_train) ,\\\n",
    "                                                                 training_time,\\\n",
    "                                                                 pred_time_train,\\\n",
    "                                                                 pred_time_test,\\\n",
    "                                                                 F1_train, F1_test ))"
   ]
  },
  {
   "cell_type": "code",
   "execution_count": 13,
   "metadata": {
    "collapsed": false
   },
   "outputs": [
    {
     "name": "stdout",
     "output_type": "stream",
     "text": [
      "Training KNeighborsClassifier...\n",
      "X_train_length | training_time / pred_time_train / pred_time_test | F1_train / F1_test\n",
      "100 | 0.001650 | 0.012139 / 0.030268 | 0.324912 / 0.093520 \n",
      "200 | 0.001884 | 0.043599 / 0.061806 | 0.502690 / 0.270610 \n",
      "300 | 0.004186 | 0.094445 / 0.082068 | 0.614627 / 0.432115 \n"
     ]
    }
   ],
   "source": [
    "# Train and predict implementation\n",
    "'''\n",
    "\n",
    "JaccardDistance == number of non-equal dimensions / number of nonzero dimensions\n",
    "\n",
    "\n",
    "((number of dims in which the first value is True, second is False) +\n",
    "(number of dims in which the first value is False, second is True)) /\n",
    "\n",
    "((number of dims in which the first value is True, second is False) +\n",
    "(number of dims in which the first value is False, second is True) +\n",
    "(number of dims in which both values are True))\n",
    "\n",
    "\n",
    "'''\n",
    "num_train_arr = [100,200,300]\n",
    "\n",
    "knn_clf = KNeighborsClassifier(metric='jaccard')\n",
    "clf_arr = [knn_clf]\n",
    "\n",
    "\n",
    "for clf in clf_arr:\n",
    "    print(\"Training {}...\".format(clf.__class__.__name__))\n",
    "    print('X_train_length | training_time / pred_time_train / pred_time_test | F1_train / F1_test')\n",
    "    for num_train in num_train_arr:\n",
    "        f1_dt = train_predict( clf , X_train[0:num_train], y_train[0:num_train], X_test, y_test )\n",
    "\n"
   ]
  },
  {
   "cell_type": "code",
   "execution_count": 14,
   "metadata": {
    "collapsed": false
   },
   "outputs": [
    {
     "name": "stdout",
     "output_type": "stream",
     "text": [
      "\n",
      "The accuracy of the knn classifier for k = 3 is 79%\n",
      "\n",
      "The optimal number of neighbors is 3.\n"
     ]
    },
    {
     "data": {
      "image/png": "[encoded data removed]",
      "text/plain": [
       "<matplotlib.figure.Figure at 0x110cf01d0>"
      ]
     },
     "metadata": {},
     "output_type": "display_data"
    }
   ],
   "source": [
    "\n",
    "# ============================== KNN with k = 3 ===============================================\n",
    "# instantiate learning model (k = 3)\n",
    "knn = KNeighborsClassifier(n_neighbors=3)\n",
    "\n",
    "# fitting the model\n",
    "knn.fit(X_train, y_train)\n",
    "\n",
    "# predict the response\n",
    "pred = knn.predict(X_test)\n",
    "\n",
    "# evaluate accuracy\n",
    "acc = accuracy_score(y_test, pred) * 100\n",
    "print('\\nThe accuracy of the knn classifier for k = 3 is %d%%' % acc)\n",
    "\n",
    "\n",
    "# ============================== parameter tuning =============================================\n",
    "# creating odd list of K for KNN\n",
    "myList = list(range(0,50))\n",
    "neighbors = list(filter(lambda x: x % 2 != 0, myList))\n",
    "\n",
    "# empty list that will hold cv scores\n",
    "cv_scores = []\n",
    "\n",
    "# perform 10-fold cross validation\n",
    "for k in neighbors:\n",
    "    knn = KNeighborsClassifier(metric='jaccard', n_neighbors=k)\n",
    "    scores = cross_val_score(knn, X_train, y_train, cv=10, scoring='accuracy')\n",
    "    '''\n",
    "    \n",
    "    In the basic approach, called k-fold CV, the training set is split into k smaller sets (other approaches are described below, but generally follow the same principles). The following procedure is followed for each of the k “folds”:\n",
    "\n",
    "    A model is trained using k-1 of the folds as training data;\n",
    "    the resulting model is validated on the remaining part of the data \n",
    "    (i.e., it is used as a test set to compute a performance measure such as accuracy).\n",
    "    \n",
    "    The performance measure reported by k-fold cross-validation is then the average of \n",
    "    the values computed in the loop. This approach can be computationally expensive, \n",
    "    but does not waste too much data (as it is the case when fixing an arbitrary test set), \n",
    "    which is a major advantage in problem such as inverse inference where the number of samples is very small.\n",
    "    \n",
    "    Accuracy classification score.\n",
    "    In multilabel classification, this function computes subset accuracy: \n",
    "    the set of labels predicted for a sample must exactly match the corresponding set of labels in y_true.\n",
    "    '''\n",
    "    cv_scores.append(scores.mean())\n",
    "\n",
    "# changing to misclassification error\n",
    "MSE = [1 - x for x in cv_scores]\n",
    "\n",
    "# determining best k\n",
    "optimal_k = neighbors[MSE.index(min(MSE))]\n",
    "print('\\nThe optimal number of neighbors is %d.' % optimal_k)\n",
    "\n",
    "# plot misclassification error vs k \n",
    "plt.plot(neighbors, MSE)\n",
    "plt.xlabel('Number of Neighbors K')\n",
    "plt.ylabel('Misclassification Error')\n",
    "plt.show()"
   ]
  },
  {
   "cell_type": "code",
   "execution_count": 15,
   "metadata": {
    "collapsed": false
   },
   "outputs": [
    {
     "name": "stdout",
     "output_type": "stream",
     "text": [
      "['JOHN BERNARD ALEXEI ALEXANDER']\n"
     ]
    }
   ],
   "source": [
    "knn=KNeighborsClassifier(metric='jaccard', n_neighbors=100)\n",
    "knn.fit(X_train,y_train)\n",
    "pred = knn.predict(X_test[0:1])\n",
    "print(pred)"
   ]
  },
  {
   "cell_type": "code",
   "execution_count": null,
   "metadata": {
    "collapsed": true
   },
   "outputs": [],
   "source": []
  }
 ],
 "metadata": {
  "kernelspec": {
   "display_name": "Python 3",
   "language": "python",
   "name": "python3"
  },
  "language_info": {
   "codemirror_mode": {
    "name": "ipython",
    "version": 3
   },
   "file_extension": ".py",
   "mimetype": "text/x-python",
   "name": "python",
   "nbconvert_exporter": "python",
   "pygments_lexer": "ipython3",
   "version": "3.6.0"
  }
 },
 "nbformat": 4,
 "nbformat_minor": 2
}
