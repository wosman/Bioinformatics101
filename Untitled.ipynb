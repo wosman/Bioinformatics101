{
 "cells": [
  {
   "cell_type": "code",
   "execution_count": 12,
   "metadata": {
    "collapsed": false
   },
   "outputs": [
    {
     "name": "stdout",
     "output_type": "stream",
     "text": [
      "<title>Secret exercise</title>\n",
      "\n",
      "<h1>Secret Think Python Exercise</h3>\n",
      "\n",
      "<p>\n",
      "If you are reading this, you are probably working on the urllib\n",
      "exercise from Think Python.\n",
      "\n",
      "<p>\n",
      "Next, you should read the documentation of the urllib module at\n",
      "http://docs.python.org/lib/module-urllib.html\n",
      "\n",
      "<p>\n",
      "Then go to www.uszip.com, which provides information about every zip code\n",
      "in the country.  For example, the URL\n",
      "\n",
      "<p>\n",
      "http://www.uszip.com/zip/02492\n",
      "\n",
      "<p>\n",
      "provides information about Needham MA, including population, longitude\n",
      "and latitude, etc.\n",
      "\n",
      "<p>\n",
      "Write a program that prompts the user for a zip code and prints the\n",
      "name and population of the corresponding town.\n",
      "\n",
      "<p>\n",
      "Note: the text you get from uszip.com is in HTML, the language most\n",
      "web pages are written in.  Even if you don't know HTML, you should be\n",
      "able to extract the information you are looking for.\n",
      "\n",
      "<p>\n",
      "By the way, your program is an example of a \"screen scraper.\"  You can\n",
      "read more about this term at\n",
      "\n",
      "<p>\n",
      "http://wikipedia.org/wiki/Screen_scraping\n",
      "\n",
      "<p>\n",
      "Sites that make money from advertising don't like screen scrapers\n",
      "because they don't display the ads.  Using a screen scraper violates\n",
      "the terms of service for some sites; that's why this is a secret\n",
      "exercise!\n",
      "\n",
      "<script type=\"text/javascript\">\n",
      "var gaJsHost = ((\"https:\" == document.location.protocol) ? \"https://ssl.\" : \"http://www.\");\n",
      "document.write(unescape(\"%3Cscript src='\" + gaJsHost + \"google-analytics.com/ga.js' type='text/javascript'%3E%3C/script%3E\"));\n",
      "</script>\n",
      "<script type=\"text/javascript\">\n",
      "try {\n",
      "var pageTracker = _gat._getTracker(\"UA-9267613-1\");\n",
      "pageTracker._trackPageview();\n",
      "} catch(err) {}</script>\n",
      "\n",
      "</body>\n"
     ]
    }
   ],
   "source": [
    "import urllib\n",
    "conn = urllib.urlopen('http://thinkpython.com/secret.html')\n",
    "for line in conn:\n",
    "    print line.strip()"
   ]
  },
  {
   "cell_type": "code",
   "execution_count": null,
   "metadata": {
    "collapsed": true
   },
   "outputs": [],
   "source": []
  },
  {
   "cell_type": "code",
   "execution_count": null,
   "metadata": {
    "collapsed": true
   },
   "outputs": [],
   "source": []
  }
 ],
 "metadata": {
  "kernelspec": {
   "display_name": "Python 2",
   "language": "python",
   "name": "python2"
  },
  "language_info": {
   "codemirror_mode": {
    "name": "ipython",
    "version": 2
   },
   "file_extension": ".py",
   "mimetype": "text/x-python",
   "name": "python",
   "nbconvert_exporter": "python",
   "pygments_lexer": "ipython2",
   "version": "2.7.12"
  }
 },
 "nbformat": 4,
 "nbformat_minor": 1
}
