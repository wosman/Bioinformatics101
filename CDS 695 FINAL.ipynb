{
 "cells": [
  {
   "cell_type": "markdown",
   "metadata": {},
   "source": [
    "Final Exam: K Nearest Neighbors"
   ]
  },
  {
   "cell_type": "code",
   "execution_count": 1,
   "metadata": {
    "collapsed": true
   },
   "outputs": [],
   "source": [
    "# Import libraries\n",
    "import numpy as np\n",
    "import pandas as pd\n",
    "import pymysql"
   ]
  },
  {
   "cell_type": "code",
   "execution_count": 2,
   "metadata": {
    "collapsed": true
   },
   "outputs": [],
   "source": [
    "# Establish Connection\n",
    "connection = pymysql.connect(host='localhost',\n",
    "                             user='root',\n",
    "                             password='v7vsiuel',\n",
    "                             db='cds695',\n",
    "                             cursorclass=pymysql.cursors.DictCursor)\n",
    "cursor = connection.cursor()"
   ]
  },
  {
   "cell_type": "code",
   "execution_count": 3,
   "metadata": {
    "collapsed": false
   },
   "outputs": [
    {
     "name": "stdout",
     "output_type": "stream",
     "text": [
      "['Institutions', 'Company_Name', 'Resident_Country', 'FullName']\n",
      "Directors data read successfully!\n"
     ]
    },
    {
     "data": {
      "text/plain": [
       "(8184, 4)"
      ]
     },
     "execution_count": 3,
     "metadata": {},
     "output_type": "execute_result"
    }
   ],
   "source": [
    "# Read Directors data from database\n",
    "\n",
    "sql_query = \"\"\"\n",
    "SELECT\n",
    "    institution.Institutions,\n",
    "    companies_combined.FullName As Company_Name,\n",
    "    countries.country AS Resident_Country,\n",
    "    people.FullName\n",
    "\n",
    "FROM people\n",
    "    LEFT JOIN educationofeople on educationofeople.People_ID = people.Dir_ID\n",
    "    LEFT JOIN institution on institution.Institutions_ID = educationofeople.Institutions_ID\n",
    "    LEFT JOIN countries on countries.country_ID = people.Resident_Countr_ID\n",
    "    LEFT JOIN peopleandcompanies on peopleandcompanies.People_ID = people.Dir_ID\n",
    "    LEFT JOIN companies_combined on companies_combined.Company_ID = peopleandcompanies.Company_ID\n",
    "\"\"\"\n",
    "\n",
    "df_directors = pd.read_sql(sql_query, connection)\n",
    "\n",
    "\n",
    "col_names = df_directors.columns.tolist()\n",
    "print(col_names)\n",
    "# print(df_directors.head)\n",
    "print(\"Directors data read successfully!\")\n",
    "df_directors.shape"
   ]
  },
  {
   "cell_type": "code",
   "execution_count": 4,
   "metadata": {
    "collapsed": false
   },
   "outputs": [
    {
     "name": "stdout",
     "output_type": "stream",
     "text": [
      "Institutions        object\n",
      "Company_Name        object\n",
      "Resident_Country    object\n",
      "FullName            object\n",
      "dtype: object\n",
      "(1127, 4)\n",
      "Institutions        0\n",
      "Company_Name        0\n",
      "Resident_Country    0\n",
      "FullName            0\n",
      "dtype: int64\n",
      "(1127, 4)\n",
      "Institutions        object\n",
      "Company_Name        object\n",
      "Resident_Country    object\n",
      "FullName            object\n",
      "dtype: object\n"
     ]
    }
   ],
   "source": [
    "print(df_directors.dtypes)\n",
    "\n",
    "# df_directors['FullName'] = df_directors.FullName.astype(str)\n",
    "# df_directors['Institutions'] = df_directors.Institutions.astype(str)\n",
    "# df_directors['Company_Name'] = df_directors.Company_Name.astype(str)\n",
    "# df_directors['Resident_Country'] = df_directors.Resident_Country.astype(str)\n",
    "\n",
    "\n",
    "\n",
    "# df_directors['FullName'] = pd.Categorical(df_directors.FullName)\n",
    "# df_directors['Institutions'] = pd.Categorical(df_directors.Institutions)\n",
    "# df_directors['Company_Name'] = pd.Categorical(df_directors.Company_Name)\n",
    "# df_directors['Resident_Country'] = pd.Categorical(df_directors.Resident_Country)\n",
    "\n",
    "# df_directors[['FullName', 'Institutions', 'Company_Name', 'Resident_Country']] = df_directors[['FullName', 'Institutions', 'Company_Name', 'Resident_Country']].astype(str) \n",
    "# print(df_directors.dtypes)\n",
    "\n",
    "# print(df_directors.isnull().sum()) # count the missing values in each column\n",
    "df_directors.dropna(inplace=True)\n",
    "print(df_directors.shape)\n",
    "print(df_directors.isnull().sum()) # count the missing values in each column\n",
    "# df_directors.Education_title.fillna(value='no_title', inplace=True) \n",
    "# df_directors.Company_Name.fillna(value='No_company', inplace=True) \n",
    "# df_directors.Resident_Country.fillna(value='Na', inplace=True) \n",
    "# df_directors.Role.fillna(value='no_role', inplace=True) \n",
    "# df_directors.Rank.fillna(value='no_rank', inplace=True) \n",
    "# df_directors.Branch.fillna(value='no_branch', inplace=True)\n",
    "# df_directors.Institutions.fillna(value='no_institution', inplace=True)\n",
    "print(df_directors.shape)\n",
    "print(df_directors.dtypes)\n",
    "# print(df_directors.isnull().sum()) # count the missing values in each column"
   ]
  },
  {
   "cell_type": "code",
   "execution_count": 5,
   "metadata": {
    "collapsed": false
   },
   "outputs": [
    {
     "name": "stdout",
     "output_type": "stream",
     "text": [
      "Total number of n_directors: 1127\n",
      "Number of n_directors who n_usa_residence: 379\n",
      "Number of n_directors who n_international_residence: 748\n",
      "Number of features: 3\n",
      "Percentage of USA residence of the directors: 33.63%\n"
     ]
    }
   ],
   "source": [
    "# TODO: Compute desired values - replace each '?' with an appropriate expression/function call\n",
    "n_directors = df_directors.index.size\n",
    "n_features = df_directors.columns.size - 1\n",
    "n_usa_residence = df_directors[df_directors['Resident_Country'] == 'USA\\r' ].index.size\n",
    "n_international_residence = n_directors - n_usa_residence\n",
    "usa_rate = 100*float(n_usa_residence) / float(n_directors)\n",
    "print(\"Total number of n_directors: {}\".format(n_directors))\n",
    "print(\"Number of n_directors who n_usa_residence: {}\".format(n_usa_residence))\n",
    "print(\"Number of n_directors who n_international_residence: {}\".format(n_international_residence))\n",
    "print(\"Number of features: {}\".format(n_features))\n",
    "print(\"Percentage of USA residence of the directors: {:.2f}%\".format(usa_rate))"
   ]
  },
  {
   "cell_type": "code",
   "execution_count": 6,
   "metadata": {
    "collapsed": false
   },
   "outputs": [
    {
     "name": "stdout",
     "output_type": "stream",
     "text": [
      "Feature column(s):-\n",
      "['Institutions', 'Company_Name', 'Resident_Country']\n",
      "Target column: FullName\n",
      "\n",
      "Feature values:-\n",
      "             Institutions                                      Company_Name  \\\n",
      "0  H.E.C. Business School                                 LAZARD BROTHERS\\r   \n",
      "2  H.E.C. Business School                                    PERMAL FUNDS\\r   \n",
      "3  H.E.C. Business School              PERMAL GROUP (DIFFERENT COMPANIES)\\r   \n",
      "4  H.E.C. Business School         PERMAL INVESTMENT FUND SERVICES LIMITED\\r   \n",
      "5  H.E.C. Business School  SICAVS / BANQUE NATIONALE DE PARIS GROUP (BNP)\\r   \n",
      "\n",
      "  Resident_Country  \n",
      "0         France\\r  \n",
      "2         France\\r  \n",
      "3         France\\r  \n",
      "4         France\\r  \n",
      "5         France\\r  \n",
      "0    EDMOND DE LA HAYE JOUSSELIN\n",
      "2    EDMOND DE LA HAYE JOUSSELIN\n",
      "3    EDMOND DE LA HAYE JOUSSELIN\n",
      "4    EDMOND DE LA HAYE JOUSSELIN\n",
      "5    EDMOND DE LA HAYE JOUSSELIN\n",
      "Name: FullName, dtype: object\n"
     ]
    }
   ],
   "source": [
    "# Extract feature (X) and target (y) columns\n",
    "feature_cols = list(df_directors.columns[:-1])  # all columns but last are features\n",
    "target_col = df_directors.columns[-1]  # last column is the target/label\n",
    "print(\"Feature column(s):-\\n{}\".format(feature_cols))\n",
    "print(\"Target column: {}\".format(target_col))\n",
    "\n",
    "X_all = df_directors[feature_cols]  # feature values for all students\n",
    "y_all = df_directors[target_col]  # corresponding targets/labels\n",
    "print(\"\\nFeature values:-\")\n",
    "print(X_all.head())  # print the first 5 rows\n",
    "print(y_all.head())  # print the first 5 rows\n",
    "\n"
   ]
  },
  {
   "cell_type": "code",
   "execution_count": 7,
   "metadata": {
    "collapsed": false
   },
   "outputs": [
    {
     "name": "stdout",
     "output_type": "stream",
     "text": [
      "Processed feature columns (862):-\n",
      "['Institutions_Aberdeen University', 'Institutions_Auckland University', 'Institutions_Bates College', 'Institutions_Bocconi University', 'Institutions_Boston University', 'Institutions_Brandeis University', 'Institutions_Brock University', 'Institutions_Bucknell University', 'Institutions_Cambridge University', 'Institutions_Carnegie Mellon University  Tepper School', 'Institutions_College Stanislas', 'Institutions_College of Europe', 'Institutions_College of William and Mary', 'Institutions_Columbia University', 'Institutions_Commercial School of Business Administration', 'Institutions_Cornell University', 'Institutions_DePaul University', 'Institutions_ENSIMAG', 'Institutions_ETH', 'Institutions_Emory University', 'Institutions_Free University', 'Institutions_GSB', 'Institutions_Georgetown university', 'Institutions_Glasgow University', 'Institutions_Graduate Institute of International Studies', 'Institutions_Graduate School of Management in Los Angeles', 'Institutions_H.E.C. Business School', 'Institutions_HEC', 'Institutions_Hamilton College', 'Institutions_HandelshÃ¶gskolan I ', 'Institutions_Harvard', 'Institutions_Harvard Business School', 'Institutions_Harvard College', 'Institutions_Harvard Law School', 'Institutions_Harvard University', 'Institutions_Higher Business School', 'Institutions_Hofstra University', 'Institutions_IMD Lausanne', 'Institutions_INSEAD', 'Institutions_Imperial College', 'Institutions_Institute of European Studies', 'Institutions_Institute of Management Development', 'Institutions_Institute of Political Stuidies  IEP - Scienc', 'Institutions_International Faculty of Comparative Law ', 'Institutions_Iowa State University', 'Institutions_Keio University', 'Institutions_Kharkov Institute of Radioelectronics', 'Institutions_Knock College', 'Institutions_Lausanne', 'Institutions_London Business School', 'Institutions_London School of Economics', 'Institutions_Louvain University', 'Institutions_Macquarie University', 'Institutions_Manchester Business School', 'Institutions_McGill University', 'Institutions_Milikin University', 'Institutions_Morehouse College', 'Institutions_Nanyang Technoloical niersity', 'Institutions_Napier College', 'Institutions_New York University', 'Institutions_Northeastern University', 'Institutions_Oxford University', 'Institutions_Princeton University', \"Institutions_Queen's University\", 'Institutions_Queens College', 'Institutions_Queens College Oxford', 'Institutions_Randolph-Macon College', 'Institutions_Reading University', \"Institutions_Robert Gordon's University\", 'Institutions_Rutgers University', \"Institutions_Seton Hall Univerisity's Stillman School of B\", 'Institutions_Southampton University', 'Institutions_St. Andrew University', 'Institutions_St. Gallen', \"Institutions_St. John's University\", 'Institutions_Stanford Graduate School of Business', 'Institutions_State College of Commerce', 'Institutions_State University of New York at Stony Brooks', 'Institutions_Stern School of Busines - NYU', 'Institutions_Stockholm School of Economics', 'Institutions_Swiss Banking School', 'Institutions_The University of ST. Thomas', 'Institutions_Trinity College', 'Institutions_Tulane University', 'Institutions_UC Berkeley', 'Institutions_UCLA', 'Institutions_Universidad de Madrid', 'Institutions_Universitat Zurich', 'Institutions_University College Dublin', 'Institutions_University Lucerne', 'Institutions_University of Aix-Marseille III', 'Institutions_University of Bern', 'Institutions_University of Bordeaux', 'Institutions_University of Brrabant  Tilburg', 'Institutions_University of Cape Town', 'Institutions_University of Chicago', 'Institutions_University of Clermont-Ferrand', 'Institutions_University of Connecticut', 'Institutions_University of Dublin', 'Institutions_University of Edinburgh', 'Institutions_University of Exeter', 'Institutions_University of Geneva', 'Institutions_University of Grenoble', 'Institutions_University of Illinois - Urbana', 'Institutions_University of Iowa', 'Institutions_University of Lausanne', 'Institutions_University of Leuven', 'Institutions_University of Lund', 'Institutions_University of Manchester', 'Institutions_University of Michigan', 'Institutions_University of Minnesota', 'Institutions_University of Natal', 'Institutions_University of Nijmegen', 'Institutions_University of Otago', 'Institutions_University of Oxford', 'Institutions_University of Paris II', 'Institutions_University of Pennsylvania', 'Institutions_University of Richmond - Robis School of Busi', 'Institutions_University of South Florida', 'Institutions_University of Southern California', 'Institutions_University of St. Gallen', 'Institutions_University of Stellenbosch', 'Institutions_University of Sussex', 'Institutions_University of Sydney', 'Institutions_University of Toronto', 'Institutions_University of Turin', 'Institutions_University of Ulste', 'Institutions_University of Washington', 'Institutions_University of Waterloo', 'Institutions_University of Western Ontario', 'Institutions_University of Witwatersrand', 'Institutions_University of Zurich', 'Institutions_University of russels', 'Institutions_UniversitÃ© Catholique de Louvain', 'Institutions_UniversitÃ© de Lausanne', 'Institutions_UniversitÃ© du QuÃ©bec Ã¡ Montreal', 'Institutions_Uppsala University', 'Institutions_Utah University', 'Institutions_Vanderbilt University', 'Institutions_Warwick University', 'Institutions_Wilfrid Laurier University', 'Institutions_Yale University', 'Institutions_Zurich University', 'Company_Name_4 ADVANTAGE ADVISERS FUND\\r', 'Company_Name_7 CLIFFORD STREET LIMITED\\r', 'Company_Name_ABAX GLOBAL CAPITAL\\r', 'Company_Name_ABERDEEN GROUP\\r', 'Company_Name_ABRAHAM FUND INITIATIVES\\r', 'Company_Name_ABSOLUTE EUROPE AG\\r', 'Company_Name_ABSOLUTE INVESTMENT SERVICES LTD.\\r', 'Company_Name_ABSOLUTE MANAGERS AG\\r', 'Company_Name_ABSOLUTE PRIVATE EQUITY LTD\\r', 'Company_Name_ABSOLUTE RETURN STRATEGIES\\r', 'Company_Name_ABSOLUTE US AG\\r', 'Company_Name_ABU DHABI GOVERNMENT\\r', 'Company_Name_ABU DHABI INVESTMENT COUNCIL\\r', 'Company_Name_ACADEMIE BANCAIRE EUROPIENNE\\r', 'Company_Name_ACCELERATED CAPITAL INVESTMENTS LTD\\r', 'Company_Name_ACME DESIGNS\\r', 'Company_Name_ACT II CAPITAL LLC\\r', 'Company_Name_ADDISON CLARK CAPITAL LLC\\r', 'Company_Name_ADMINISTRATION AND GESTION S.A.\\r', 'Company_Name_ADOLPH SAURER AG\\r', 'Company_Name_ADVANTAGE ADVISERS XANTHUS FUND L.L.C.\\r', 'Company_Name_ADVENT GLOBAL OPPORTUNITY STRATEGY\\r', 'Company_Name_ADVENT HEDGED CONVERTIBLE STRATEGY\\r', 'Company_Name_AGENCE POUR LE TRANSFERT DE TECHNOLOGIES FINANCIERES\\r', 'Company_Name_AGENY FOR THE TRANSFER OF FINANCIAL TECHNOLOGY\\r', 'Company_Name_AIAF\\r', 'Company_Name_AIMR (NOW CFA INSTITUTE)\\r', 'Company_Name_ALFI GESTION\\r', 'Company_Name_ALFRED P. SLOAN FOUNDATION\\r', 'Company_Name_ALTERNATIVE ASSET ADVISORS (3A)\\r', 'Company_Name_ALTERNATIVE INVESTMENT MANAGEMENT ASSOCIATION\\r', 'Company_Name_ALTERNATIVE INVESTMENT MANAGEMENT ASSOCIATION - CANADA\\r', 'Company_Name_ALTIN AG\\r', 'Company_Name_AMERICAN COLLEGE OF SURGEONS\\r', 'Company_Name_AMERICAN INSTITUTE OF CERTIFIED PUBLIC ACCOUNANTS\\r', 'Company_Name_AMERICAN UNIVERSITY\\r', 'Company_Name_AMICORP NV\\r', 'Company_Name_AMUNDI ALTERNATIVE INVESTMENTS\\r', 'Company_Name_APAX PARTNERS\\r', 'Company_Name_APCIMS\\r', 'Company_Name_APPALACHIAN MOUNTAIN CLB\\r', 'Company_Name_APPLEBY\\r', 'Company_Name_AQUAPELLOR GROUP\\r', 'Company_Name_ARGO GLOBAL CAPITAL\\r', 'Company_Name_ARGOS MANAGERS\\r', 'Company_Name_ARGUS GROUP OF COMPANIES\\r', 'Company_Name_ARTHUR ANDERSEN & CO.\\r', 'Company_Name_ARTHUR COX\\r', 'Company_Name_ASIAN CAPITAL HOLDINGS\\r', 'Company_Name_ASSOCIATION OF CORPORATE TREASURERS\\r', 'Company_Name_ASSOCIATION OF INVESTMENT COMPANIES\\r', 'Company_Name_ASUKA ASSET MANAGEMENT\\r', 'Company_Name_AUTOLOGIC HOLDINGS PLC.\\r', 'Company_Name_AXIS CAPITAL HOLDINGS LTD\\r', \"Company_Name_B'NAI BRITH YOUTH ORGANIZATION\\r\", 'Company_Name_BACHMAN & CO. LIMITED\\r', 'Company_Name_BACHMANN GROUP\\r', 'Company_Name_BANCA DEL CERESIO\\r', 'Company_Name_BANCA LEONARDO\\r', 'Company_Name_BANCA PRIVATA EDMOND DE ROTHSCHILD LUGANO S.A\\r', 'Company_Name_BANCO DE INVESTIMENTOS GARANTIA\\r', 'Company_Name_BANK J. VONTOBEL & CO. AG\\r', 'Company_Name_BANK OF AMERICA CAYMAN\\r', 'Company_Name_BANK OF BERMUDA\\r', 'Company_Name_BANK OF N.T. BUTTERFIELD & SON LIMITED\\r', 'Company_Name_BANK OF NEW YORK\\r', 'Company_Name_BANK SARASIN & CIE AG\\r', 'Company_Name_BANKERS TRUST\\r', 'Company_Name_BANQUE DE GESTION EDMOND DE ROTHSCHILD MONACO\\r', 'Company_Name_BANQUE GENERALE DU LUEMBOURG (NOW: FORTIS BANK LUXEMBOURG)\\r', 'Company_Name_BANQUE INDOSUEZ\\r', 'Company_Name_BANQUE PRIVEE EDMOND DE ROTHSCHILD SA\\r', 'Company_Name_BANQUE SCS ALLIANCE S.A.\\r', 'Company_Name_BANQUE SYZ & CO SA\\r', 'Company_Name_BANQUE WORMS\\r', 'Company_Name_BARCLAYS GLOBAL INVESTORS (BGI)\\r', 'Company_Name_BARCODE OF LIFE INITIATIVE\\r', 'Company_Name_BARING ASSET MANAGEMENT\\r', 'Company_Name_BARING BROTHERS\\r', 'Company_Name_BARINGS\\r', 'Company_Name_BCV\\r', 'Company_Name_BEAR STEARNS AND CO.\\r', 'Company_Name_BERMUDA INSTITUTE OF OCEAN SCIENCES\\r', 'Company_Name_BERMUDA WEALTH MANAGEMENT\\r', 'Company_Name_BH MACRO LIMITED\\r', 'Company_Name_BISYS FUND SERVICES LTD\\r', 'Company_Name_BLUE POOL CAPITAL\\r', 'Company_Name_BLUECREST CAPITAL MANAGEMENT LIMITED\\r', 'Company_Name_BNP PARIBAS INVESTMENT PARTNERS\\r', 'Company_Name_BONN & SCHMITT\\r', 'Company_Name_BONNIER MEDICAL\\r', 'Company_Name_BOSTON AREA RAPE CRISIS CENTER\\r', 'Company_Name_BOSTON PHILHARMONIC\\r', 'Company_Name_BOWMAN CAPITAL MANAGEMENT\\r', 'Company_Name_BREVAN HOWARD ASSET MANAGEMENT LLP\\r', 'Company_Name_BREVAN HOWARD US ASSET MANAGEMENT LP\\r', 'Company_Name_BREVAN HOWARD US LLC\\r', 'Company_Name_BRIGHTLINE CAPITAL MANAGEMENT LLC (BCM)\\r', 'Company_Name_BRITISH EMBASSY\\r', 'Company_Name_BRUMMER & PARTNERS\\r', 'Company_Name_BRUMMER & PARTNERS - B & P FUND SERVICES\\r', 'Company_Name_BRUNNERINVEST AG\\r', 'Company_Name_BTG PACTUAL EUROPE LLP\\r', 'Company_Name_BUTTERFIELD BERMUDA FUND LTD\\r', 'Company_Name_BUTTERFIELD SELECT INVEST FUND LIMITED\\r', 'Company_Name_BUTTERFIELD TRUST\\r', 'Company_Name_BZW\\r', 'Company_Name_C.A. SPERATI (THE SPECIAL AGENCY) PLC.\\r', 'Company_Name_C.M. ADVISORS LIMTED\\r', 'Company_Name_CA SPERATI PLC\\r', 'Company_Name_CABOT CORPORATION\\r', 'Company_Name_CACEIS BANK\\r', 'Company_Name_CALDWELL & PARTNERS\\r', 'Company_Name_CALDWELL ASSOCIATES LIMITED\\r', 'Company_Name_CALDWELL MANAGEMENT AG\\r', 'Company_Name_CALYON\\r', 'Company_Name_CANTONAL FISCAL DEPARTMENT OF AARGAU\\r', 'Company_Name_CAPITAL G LIMITED\\r', 'Company_Name_CAPITAL MANAGEMENT\\r', 'Company_Name_CAPLAN & LYONS\\r', 'Company_Name_CARDINAL MANAGEMENT COMPANY\\r', 'Company_Name_CARGILL ASSET MANAGEMENT\\r', 'Company_Name_CARGILL INCORPORATED\\r', 'Company_Name_CASTLE ALTERNATIVE INVEST AG\\r', 'Company_Name_CASTLE HARBOUR LIMITED\\r', 'Company_Name_CASTLE MANAGEMENT LIMITED\\r', 'Company_Name_CASTLE PRIVATE EQUITY AG\\r', 'Company_Name_CAVALRY ASSET MANAGEMENT\\r', 'Company_Name_CAYMAN ISLANDS DIRECTORS ASSOCIATION\\r', 'Company_Name_CAYMAN ISLANDS SOCIETY OF PROFESSIONAL ACCOUNTANTS\\r', 'Company_Name_CAZENOVE CAPITAL MANAGEMENT\\r', 'Company_Name_CDC ASSET MANAGEMENT\\r', 'Company_Name_CDC CAPITAL\\r', 'Company_Name_CELLCOM LIMITED\\r', 'Company_Name_CENTER FOR STRATEGIC AND INTERNATIONAL STUDIES\\r', 'Company_Name_CENTRAL BANK OF VENEZUELA\\r', 'Company_Name_CENTRAL INTELLIGENCE AGENCY\\r', 'Company_Name_CENTRE UNIVERSITAIRE\\r', 'Company_Name_CERN\\r', 'Company_Name_CGBC SA (NOW FORTIS BANQUE SA)\\r', 'Company_Name_CGNU\\r', 'Company_Name_CHARLEMAGNE CAPITAL GROUP (FORMER: REGENT PACIFIC)\\r', 'Company_Name_CHARLES RODOLPHE BRUPBACHER FOUNDATION\\r', 'Company_Name_CHARTERED ALTERNATIVE INVESTMENT ANALYS ASSOCIATION\\r', 'Company_Name_CHARTERED SECURITIES & INVESTMENT INSTITUTE\\r', 'Company_Name_CHASE MANHATTAN BANK\\r', 'Company_Name_CHAUCER PLC\\r', 'Company_Name_CHEYNE CAPITAL AG\\r', 'Company_Name_CIBA GEIGY\\r', 'Company_Name_CITADEL INVESTMENT ASIA\\r', 'Company_Name_CITADEL INVESTMENT GROUP\\r', 'Company_Name_CITIBANK\\r', 'Company_Name_CITICORP\\r', 'Company_Name_CLICKSOFTWARE TECHNOLOGIES LTD\\r', 'Company_Name_CMA\\r', 'Company_Name_COALITION DEVELOPMENT LIMITED\\r', 'Company_Name_CODOJU (CONSULTATIVE BODY TO THE PRIME MINISTER ON THE IMPROVEMENT OF THE LEGISLATIVE FRAMEWORK OF THE FINANCIAL SECTOR)\\r', 'Company_Name_COLIN SHAW & CO\\r', 'Company_Name_COLONIAL MANAGEMENT\\r', 'Company_Name_COLUMBIA BUSINESS SCHOOL\\r', 'Company_Name_COLUMBIA LAW REVIEW\\r', 'Company_Name_COLUMBIA UNIVERSITY\\r', 'Company_Name_COMMISSION DE SURVEILLANCE DU SECTEUR FINANCIER (CSSF)\\r', 'Company_Name_COMMONWEALTH INSTITUTE\\r', 'Company_Name_COMPANY\\r', 'Company_Name_CONCORD ACADEMY\\r', 'Company_Name_CONNECTICUT BANK & TRUST COMPANY\\r', 'Company_Name_CONSULTATIVE GROUP OF INTERNATIONAL ECONOMIC AND MONETARY AFAIRS (GROUP OF 30)\\r', 'Company_Name_COOPERATIVE FINANCIAL SERVICES\\r', 'Company_Name_COOPERS & LYBRAND\\r', 'Company_Name_CORISON HOLDING AG\\r', 'Company_Name_CORPORATE FINANCE DIVISON OF SG WARBURG\\r', 'Company_Name_CORPORATE INSURANCE AND REINSURANCE COMPANY LIMITED\\r', 'Company_Name_COWEN & COMPANY\\r', 'Company_Name_CPRE OXFORDSHIRE BUILDINGS PRESERVATION TRUST LIMITED\\r', 'Company_Name_CREDIT LYONNAIS\\r', 'Company_Name_CREDIT SUISSE\\r', 'Company_Name_CREDIT SUISSE ASSET MANAGEMENT\\r', 'Company_Name_CREDIT SUISSE ASSET MANAGEMENT DIVISION\\r', 'Company_Name_CREDIT SUISSE ASSET MANAGEMENT PUBLIC COMPANY\\r', 'Company_Name_CREDIT SUISSE BRAZIL\\r', 'Company_Name_CREDIT SUISSE FINANCIAL SERVICES\\r', 'Company_Name_CREDIT SUISSE FIRST BOSTON\\r', 'Company_Name_CREDIT SUISSE FIRST BOSTON CORPORATION\\r', 'Company_Name_CREDIT SUISSE GROUP\\r', 'Company_Name_CREDIT SUISSE PRIVATE BANKING\\r', 'Company_Name_CREDIT SUISSE SAM\\r', 'Company_Name_CREDIT SUISSE TRUST GROUP\\r', 'Company_Name_CSFB\\r', 'Company_Name_CSFB GENEVA\\r', 'Company_Name_CURACAO INTERNATIONAL TRUST COMPANY N.V.\\r', 'Company_Name_DALTON ADVISORY KK\\r', 'Company_Name_DAVID & LUCILE PACKARD FOUNDATION\\r', 'Company_Name_DAVIS POLK & WARDWELL\\r', 'Company_Name_DCE VAN DEN GRINTER\\r', 'Company_Name_DELOITTE\\r', 'Company_Name_DEUTSCHE ASSET MANAGEMENT\\r', 'Company_Name_DEUTSCHE ASSET MANAGEMENT (FORMERLY SCUDDER)\\r', 'Company_Name_DEUTSCHE BANK\\r', 'Company_Name_DEXIA ASSET MANAGEMENT\\r', 'Company_Name_DEXIA ASSET MANAGEMENT ALTERNATIVE DUBLIN\\r', 'Company_Name_DEXIA ASSET MANAGEMENT BELGIUM\\r', 'Company_Name_DEXIA ASSET MANAGEMENT FRANCE\\r', 'Company_Name_DEXION ABSOLUTE LIMITED\\r', 'Company_Name_DEXION CAPITAL HOLDINGS LIMITED\\r', 'Company_Name_DEXION EQUITY ALTERNATIVE LIMITED\\r', 'Company_Name_DEXION TRADING LIMITED\\r', 'Company_Name_DIGITAL EQUIPMENT CORPORATION\\r', 'Company_Name_DILLON REAL LTD.\\r', 'Company_Name_DKR MANAGEMENT COMPANY INC.\\r', 'Company_Name_DOLPHIN FUND MANAGEMENT\\r', 'Company_Name_DOMESTIC FUND\\r', 'Company_Name_DOW CHEMICAL\\r', 'Company_Name_DRESDNER RCM GESTION\\r', 'Company_Name_DREXEL BURNHAM LAMBERT\\r', 'Company_Name_DSV PARTNERS\\r', 'Company_Name_DUBLIN FUNDS INDUSTRY ASSOCIATION\\r', 'Company_Name_DUO GUO CO LTD.\\r', 'Company_Name_DYMON ASIA CAPITAL\\r', 'Company_Name_E.F. HUTTON\\r', 'Company_Name_EAB (NOW PART OF CITIGROUP)\\r', 'Company_Name_EBF & ASSOCIATES\\r', 'Company_Name_ECH HOLDINGS\\r', 'Company_Name_EDMOND DE ROTHSCHILD HOLDING S.A.\\r', 'Company_Name_EDMOND DE ROTHSCHILD INTERNATIONAL FUNDS LTD\\r', 'Company_Name_EDMOND DE ROTHSCHILD LIMITED\\r', 'Company_Name_EDMOND DE ROTHSCHILD LUGANO S.A.\\r', 'Company_Name_EFG ASSET MANAGEMENT BUSINESS\\r', 'Company_Name_EFG BANK LONDON\\r', 'Company_Name_EICHLOF HOLDING AG\\r', 'Company_Name_EMC CORPORATION\\r', 'Company_Name_EMERSON ELECTRIC\\r', 'Company_Name_EMPRESAS ICA S.A. DE C.V.\\r', 'Company_Name_ENCYCLOPEDIA OF LYFE PROJECT\\r', 'Company_Name_ENSKILDA BANK\\r', 'Company_Name_ERNST & ERNST\\r', 'Company_Name_ERNST & YOUNG\\r', 'Company_Name_ERNST AND YOUNG LLP\\r', 'Company_Name_ESTABLISHMENT INVESTMENET TRUST\\r', 'Company_Name_ETON PARK CAPITAL MANAGEMENT\\r', 'Company_Name_EUROCARD AB\\r', 'Company_Name_EUROPEAN BANK\\r', 'Company_Name_EUROPEAN CAPITAL HOLDINGS\\r', 'Company_Name_EUROPEAN CONFEDERATION OF DIRECTORS ASSOCIATIONS\\r', 'Company_Name_EVEREN SECURITIES\\r', 'Company_Name_EXECUTIVE COMMITTEE OF THE ASSOCIATION OF LUXEMBOURG INVESTMENT FUND INDUSTRY\\r', 'Company_Name_EXETER FINANCIALS FUND LIMITED\\r', 'Company_Name_EXOR S.P.A.\\r', 'Company_Name_EXXON CHEMICAL COMPANY\\r', 'Company_Name_EXXON CO. USA\\r', 'Company_Name_FALMOUTH TOWN COUNCIL\\r', 'Company_Name_FAUCHIER PARTNERS ASSET MANAGEMENT LIMITED\\r', 'Company_Name_FEDERAL RESERVE BOARD OF GOVERNORS\\r', 'Company_Name_FEDERAL RESERVE SYSTEM (MAINLY ST. LOUIS)\\r', 'Company_Name_FEDERATION OF FINANCIAL PLANEERS\\r', 'Company_Name_FEDEX CORPORATION SA\\r', 'Company_Name_FIAT S.P.A.\\r', 'Company_Name_FIDELITY & GUARANTY LIFE (FORMERLY: OLD MUTUAL U.S. LIFE)\\r', 'Company_Name_FIDELITY ANAGEMENT AND RESEARCH\\r', 'Company_Name_FIDELITY INVESTMENTS\\r', 'Company_Name_FIDELITY MANAGEMENT & RESEARCH\\r', 'Company_Name_FIDUCIARY TRUST COMPANY\\r', 'Company_Name_FINANCIAL ACTION TASK FORCE\\r', 'Company_Name_FIRST CORPORATE SHIPPING LIMITED\\r', 'Company_Name_FIRST FIDELITY BANK CORPORATION OF NEW JERSEY\\r', 'Company_Name_FIRST GROUP PLC\\r', 'Company_Name_FIRST UNION NATIONAL BANK\\r', 'Company_Name_FIRST UNION SECURITIES\\r', 'Company_Name_FLEETWOOD COMPANIES\\r', 'Company_Name_FLEETWOOD CREDIT CORP.\\r', 'Company_Name_FLEETWOOD RETAIL CORP. OF ILLINOIS\\r', 'Company_Name_FLEETWOOD RETAIL CORP. OF WEST VIRGINIA\\r', 'Company_Name_FLEETWOOD RETAIL CORPORATION\\r', 'Company_Name_FLEMING FUND MANAGEMENT S.A.\\r', 'Company_Name_FMC CORPORATION\\r', 'Company_Name_FOCUS INVESTMENT GROUP\\r', 'Company_Name_FORTIS INVESTMENTS\\r', 'Company_Name_FORTIS PRIVATE BANKING\\r', 'Company_Name_FOUNDING PARTNER\\r', 'Company_Name_FRESHFIELDS\\r', 'Company_Name_FSA PRACTITIONERS PANEL\\r', 'Company_Name_FUND GOVERNANCE SOLUTIONS\\r', 'Company_Name_G&N COLLECTIVE FUNDS SERVICES LIMITED\\r', 'Company_Name_GALLEON GROUP\\r', 'Company_Name_GAM GROUP\\r', 'Company_Name_GAM GROUP COMPLEX\\r', 'Company_Name_GAN GROUP\\r', 'Company_Name_GARTMORE ASIA\\r', 'Company_Name_GEOFFREY BELL AND COMPANY\\r', 'Company_Name_GEORGETOWN UNIVERSITY\\r', 'Company_Name_GERBER GOLDSCHMIDT GROUP\\r', 'Company_Name_GERIFONDS SA\\r', 'Company_Name_GERNANDT & DANIELSSON LAW FIRM\\r', 'Company_Name_GLICKENHAUS & CO.\\r', 'Company_Name_GLOBAL ASSET MANAGEMENT (GAM)\\r', 'Company_Name_GLOBAL ASSET MANAGEMENT (UK) LTD.\\r', 'Company_Name_GLOBAL ASSOCIATION OF RISK PROFESSIONALS\\r', 'Company_Name_GLOBAL FUND SERVICES (BANK OF BERMUDA LTD.)\\r', 'Company_Name_GMF GROUP\\r', 'Company_Name_GOLDMAN SACHS\\r', 'Company_Name_GOLDMAN SACHS ASSET MANAGEMENT DIVISION\\r', 'Company_Name_GOLDMAN SACHS DYNAMIC OPPORTUNITIES LIMITED\\r', 'Company_Name_GOLDMAN SACHS SECURITIES\\r', 'Company_Name_GOLDSTEIN GOLUB KESSLER & CO.\\r', 'Company_Name_GOSLING BROTHERS LIMITED\\r', 'Company_Name_GOVERNMENT OF BARBADOS\\r', 'Company_Name_GOVERNMENT OF JAMAICA\\r', 'Company_Name_GRACIE CAPITAL\\r', 'Company_Name_GRAMPIAN HEALTH BOARD\\r', 'Company_Name_GROTTO BAY PROPERTIES LTD\\r', 'Company_Name_GRUBB & ELLIS CO.\\r', 'Company_Name_GSB\\r', 'Company_Name_GTCR GOLDER RAUNER\\r', 'Company_Name_GUERNSEY FINANCE\\r', 'Company_Name_GUERNSEY FINANCIAL SERVICES COMMISSION\\r', 'Company_Name_GUERNSEY INTERNATIONAL LEGAL ASSOCIATION\\r', 'Company_Name_GUERNSEY INVESTMENT FUNDS ASSOCIATION\\r', 'Company_Name_GUINNESS MAHON HOLDINGS\\r', 'Company_Name_H.M. TREASURY\\r', 'Company_Name_HANDELSBANKEN\\r', 'Company_Name_HANDELSBANKEN CAPITAL MARKETS\\r', 'Company_Name_HARBOUR INTERNATIONAL TRUST COMPANY LIMITED\\r', 'Company_Name_HARRIS ASSOCIATES\\r', 'Company_Name_HESKETH HENRY\\r', 'Company_Name_HILL SAMUEL & CO.\\r', 'Company_Name_HILL SAMUEL INVESTMENT MANAGEMENT\\r', 'Company_Name_HISCOX LTD\\r', 'Company_Name_HONG KONG SOCIETY OF FINANCIAL ANALYSTS\\r', 'Company_Name_HOUSTON HOLOCAUST MUSEUM\\r', 'Company_Name_HSBC\\r', 'Company_Name_HSBC ASSET MANAGEMENT LIMITED\\r', 'Company_Name_HSBC INSTITUTIONAL TRUST SERVICES LIMITED\\r', 'Company_Name_HSBC SECURIIES SERVICES (HSS)\\r', 'Company_Name_HSBC SECURITIES\\r', 'Company_Name_HVB JAPAN (NOW UNICREDITO)\\r', 'Company_Name_IFORMATION GROUP\\r', 'Company_Name_INDOSUEZ W.I.CARR\\r', 'Company_Name_INSEAD ADVISORY COUNCIL\\r', 'Company_Name_INSTITUT DE FORMATION BANCAIRE\\r', 'Company_Name_INSTITUT LAUE-LANGEVIN\\r', 'Company_Name_INSTITUTE OF ACTUARIES\\r', 'Company_Name_INSTITUTE OF CHARTERED ACCOUNTANS OF ONTARIO\\r', 'Company_Name_INSTITUTE OF CHARTERED ACCOUNTANTS\\r', 'Company_Name_INSTITUTE OF PUBLIC FINANCE AND FISCAL LAW (IFF) OF THE UNIVERSITY OF ST. GALLEN\\r', 'Company_Name_INSTITUTE OF QUANTITATIVE INVESTMENT RESEARCH\\r', 'Company_Name_INTANA MANAGEMENT LLC\\r', 'Company_Name_INTERNATIONAL FISCAL ASSOCIATION\\r', 'Company_Name_INTERNATIONAL RADIO & TELEVISION SOCIETY\\r', 'Company_Name_INVESTEC ASSET MANAGEMENT GUERNSEY LIMITED\\r', 'Company_Name_INVESTEC FUND MANAGERS SA LIMITED\\r', 'Company_Name_INVESTEC GROUP\\r', 'Company_Name_INVESTMENT MANAGER\\r', 'Company_Name_INVESTMENT SERVICES GROUP OF PRICEWATERHOUSECOOPERS\\r', 'Company_Name_INVESTOR ASIA LIMITED (INVESTOR AB)\\r', 'Company_Name_IRIS\\r', 'Company_Name_IRISH DISTILLERS GROUP PLC.\\r', 'Company_Name_J. ARON & CO.\\r', 'Company_Name_J. ARON U.K.\\r', 'Company_Name_J. HENRY SCHRODER BANK\\r', 'Company_Name_JADE INVEST SA\\r', 'Company_Name_JAMES CAPEL & CO\\r', 'Company_Name_JAMES CAPEL INVESTMENT MANAGEMENT\\r', 'Company_Name_JEFFERIES & COMPANY\\r', 'Company_Name_JERMYN CAPITAL KK\\r', 'Company_Name_JLS ENTERPRISES\\r', 'Company_Name_JOBS FOR YOUTH\\r', 'Company_Name_JOHN HOPKINS UNIVERSITY\\r', 'Company_Name_JOHN LAING INFRASTRUCTURE FUND LIMITED\\r', 'Company_Name_JOHNS HOPKINS MEDICINE\\r', 'Company_Name_JOSEPH A. BANK CLOTHIERS\\r', 'Company_Name_JP BANK\\r', 'Company_Name_JP MORGAN\\r', 'Company_Name_JP MORGAN (PREVIOUSLY CHASE MANHATTAN BANK)\\r', 'Company_Name_JP MORGAN ASSET MANAGEMENT LTD\\r', 'Company_Name_JP MORGAN ASSET MANAGEMENT S.A.R.L.\\r', 'Company_Name_JP MORGAN FLEMING ASSET MANAGEMENT\\r', 'Company_Name_JP MORGAN INVESTMENT MANAGEMENT (JPMIM)\\r', 'Company_Name_JP MORGAN SINGAPORE\\r', 'Company_Name_JULIUS BAER FUNDS\\r', 'Company_Name_KB ASSOCIATES\\r', 'Company_Name_KB PARTNERS\\r', 'Company_Name_KBC BANK OF LONDON\\r', 'Company_Name_KELLYCONSULT SARL\\r', 'Company_Name_KEPLER CAPITAL MARKETS\\r', 'Company_Name_KEYTECH LIMITED\\r', 'Company_Name_KIDDER PEABODY & CO. INC.\\r', 'Company_Name_KINGDON CAPITAL\\r', 'Company_Name_KMPG SOUTH AFRICA\\r', 'Company_Name_KNOX COLLEGE\\r', 'Company_Name_KPMG\\r', 'Company_Name_KPMG PEAT MARWICK\\r', 'Company_Name_LA COMPAGNIE BENJAMIN DE ROTHSCHILD S.A.\\r', 'Company_Name_LA COMPAGNIE FINANCIERE EDMOND DE ROTHSCHILD BANQUE\\r', 'Company_Name_LA COMPAGNIE FINANCIERE HOLDING BENJAMIN ET EDMOND DE ROTHSCHILD GENEVE S.A.\\r', 'Company_Name_LANDINGPOINT CAPITAL\\r', 'Company_Name_LAYNE CHRISTENSEN CO.\\r', 'Company_Name_LAZARD BROTHERS\\r', 'Company_Name_LAZARD FRERES & CO.\\r', 'Company_Name_LAZARD REALTY\\r', 'Company_Name_LCF COMMUNICATION S.A.\\r', 'Company_Name_LCF EDMOND DE ROTHSCHILD ASSET MANAGEMENT LIMITED\\r', 'Company_Name_LCF EDMOND DE ROTHSCHILD FUND MANAGEMENT LIMITED\\r', 'Company_Name_LCF EDMOND DE ROTHSCHILD HOLDINGS LIMITED\\r', 'Company_Name_LCF EDMOND DE ROTHSCHILD LIMITED\\r', 'Company_Name_LCF ROTHSCHILD ASSET MANAGEMENT LIMITED\\r', 'Company_Name_LCF ROTHSCHILD LIMITED\\r', 'Company_Name_LCF ROTHSCHILD SECURITIES LIMITED\\r', 'Company_Name_LCH INVESTMENTS NV\\r', 'Company_Name_LEE & ASSOCIATES COMMERCIAL REAL ESTATE SERVICES AND INALDN EMPIRE\\r', 'Company_Name_LEHMAN BROTHERS\\r', 'Company_Name_LENTIKIA CAPITAL LLP\\r', 'Company_Name_LEVERAGE CAPITAL HOLDINGS INC.\\r', 'Company_Name_LEVERAGED CAPITAL HOLDINGS\\r', 'Company_Name_LEVERAGED CAPITAL HOLDINGS NV\\r', 'Company_Name_LGT BANK\\r', 'Company_Name_LGT BANK IN LIECHTENSTEIN AG\\r', 'Company_Name_LGT CAPITAL MANAGEMENT\\r', 'Company_Name_LGT GROUP\\r', 'Company_Name_LGT GROUP FO9UNDATION AFFILIATES\\r', 'Company_Name_LGT GROUP FOUNDATION\\r', 'Company_Name_LIECHTENSTEIN GLOBAL TRUST (NOW: LGT GROUP FOUNDATION)\\r', 'Company_Name_LIM ADVISORS LIMITED\\r', 'Company_Name_LINKLATERS AND PAINES\\r', 'Company_Name_LLOYDS TSB\\r', 'Company_Name_LOMBARD ODIER & CIE\\r', 'Company_Name_LOMBARD ODIER ASSET MANAGEMENT\\r', 'Company_Name_LOMBARD ODIER DARIER HENTSCH (LODH) ASSET MANAGEMENT LTD\\r', 'Company_Name_LOMBARD ODIER INTERNATIONAL PORTFOLIO MANAGEMENT\\r', 'Company_Name_LOMBARD ODIER INVESTMENET MANAGERS\\r', 'Company_Name_LOMBARD-ODIER\\r', 'Company_Name_LONDON SCHOOL OF ECONOMICS\\r', 'Company_Name_LUEMBOURG SOCIETY OF FINANCIAL ANALYSTS\\r', 'Company_Name_LUXEMBOURG SCHOOL OF FINANCE\\r', 'Company_Name_MAINE ARTS AND HUMANITIES COMMISSION\\r', 'Company_Name_MAITLAND\\r', 'Company_Name_MAITLAND TRUST\\r', 'Company_Name_MAN FUND MANAGEMENT LIMITED\\r', 'Company_Name_MANUFACTURER HANOVER TD.\\r', 'Company_Name_MANUFACTURERS HANOVER\\r', 'Company_Name_MANUFACTURERS HANOVER TRUST COMPANY\\r', 'Company_Name_MAPLES\\r', 'Company_Name_MAPLES FIDUCIARY SRVICES LIMITED\\r', 'Company_Name_MARKET RULES ADVISORY COMMITTEE OF IIROC\\r', 'Company_Name_MASSACHUSETTS COLLEGE OF ART AND DESIGN\\r', 'Company_Name_MATRIX ALTERNATIVE INVESTMENT STRATEGIES FUND\\r', 'Company_Name_MATRIX NEW EUROPE FUND\\r', 'Company_Name_MATRIX RM FUND\\r', 'Company_Name_MCKINSEY & CO\\r', 'Company_Name_MDO SERVICES S.A.\\r', 'Company_Name_MEDIA & ENTERTAINMENT ANALYSTS SOCIETY OF NEW YORK\\r', 'Company_Name_MEESPIERSON SECURITIES ASIA\\r', 'Company_Name_MEMBER OF THE EXECUTIVE TEAM\\r', 'Company_Name_MERCANTILE-SAFE DEPOSIT & TRUST COMPANY\\r', 'Company_Name_MERRILL LYNCH\\r', 'Company_Name_MIDLAND BANK\\r', 'Company_Name_MIFUND INC.\\r', 'Company_Name_MIFUND SERVICES LIMITED\\r', 'Company_Name_MILLWOOD MANAGEMENT SOLUTIONS\\r', 'Company_Name_MINNESOTA MUSEUM OF ART\\r', 'Company_Name_MIT SLOAN\\r', 'Company_Name_MONTRUSCO BOLTON INVESTMENTS INC. (MBII)\\r', 'Company_Name_MOORE STRATEGIC VALUE PARTNERS JAPAN\\r', 'Company_Name_MORGAN GRENFELL PRIVATE EQUITY LIMITED\\r', 'Company_Name_MORGAN STANLEY\\r', 'Company_Name_MORGAN STANLEY & CO.\\r', 'Company_Name_MPC PILGRIM FUND LIMITED\\r', 'Company_Name_MUELLER INDUSTRIES\\r', 'Company_Name_MURRAY JAPAN GROWTH AND INCOME LIMITED\\r', 'Company_Name_MUSEUM TRUSTEE ASSOCIATION\\r', 'Company_Name_NATIONAL ACADEMY OF ENGINEERING\\r', 'Company_Name_NATIONAL ACADEMY OF SCIENCES\\r', 'Company_Name_NATIONAL ASSOCIATION OF SECURITY DEALER\\r', 'Company_Name_NATIONAL BOARD OF DIRECTORS FOR YEAR UP\\r', 'Company_Name_NATIONAL RESEARCH COUNCIL BOARD ON ATHMOSFERIC SCIENCES AND CLIMATE\\r', 'Company_Name_NB PRIVATE EQUITY PARTNERS LIMITED\\r', 'Company_Name_NEEDHAM & COMPANY\\r', 'Company_Name_NEKTAR\\r', 'Company_Name_NELSON & SMALL\\r', 'Company_Name_NEUCHATEL\\r', 'Company_Name_NEW YORK SOCIETY OF SECURITY ANALYSTS\\r', 'Company_Name_NEW YORK STATE SOCIETY O CERTIFIED PUBLIC ACCOUNTANTS\\r', 'Company_Name_NEW YORK STOCK EXCHANGE\\r', 'Company_Name_NJR RESEARCH\\r', 'Company_Name_NORDSTJERNAN AB\\r', 'Company_Name_NORTHERN CALIFORNIA PUBLIC BROADCASTING (FORMERLY KQED)\\r', 'Company_Name_NOTZ STUCKI\\r', 'Company_Name_OCTAGONE\\r', 'Company_Name_OFFSHORE GROUP OF BANKING SUPERVISOR\\r', 'Company_Name_OLD MUTUAL ASSET MANAGEMENT\\r', 'Company_Name_OLD MUTUAL ASSET MANAGEMENT TRUST CO.\\r', 'Company_Name_OLD MUTUAL PLC\\r', 'Company_Name_OMNIA ASSET MANAGEMENT\\r', 'Company_Name_OPPENHEIMER FUNDS\\r', 'Company_Name_ORBAY\\r', 'Company_Name_OXFORD ASSET MANAGEMENT\\r', 'Company_Name_OXFORD UNIVERSITY\\r', 'Company_Name_OXFORD UNIVERSITY COLLEGE\\r', 'Company_Name_OXFORD UNIVERSITY ENDOWMENT MANAGEMENT\\r', 'Company_Name_P&C GLOBAL WEALTH MANAGER S.A.\\r', 'Company_Name_PACIFIC ALLIANCE ASIA OPPORTUNITY FUND LTD\\r', 'Company_Name_PALISADES VENTURES MANAGEMENT\\r', 'Company_Name_PANNELL KERR FORSTER\\r', 'Company_Name_PARESCO INC.\\r', 'Company_Name_PARLIAMENT\\r', 'Company_Name_PARTNER & COO\\r', 'Company_Name_PENN INSTITUTE FOR ECONOMIC RESEARCH AT THE UNIVERSITY OF PENNSYLVANIA\\r', 'Company_Name_PENSION CORPORATION\\r', 'Company_Name_PERMAL ASSET MANAGEMENT INC.\\r', 'Company_Name_PERMAL FAMILY O FNDS\\r', 'Company_Name_PERMAL FAMILY OF FUNDS\\r', 'Company_Name_PERMAL FUNDS\\r', 'Company_Name_PERMAL GROUP\\r', 'Company_Name_PERMAL GROUP (DIFFERENT COMPANIES)\\r', 'Company_Name_PERMAL GROUP ASSET MANAGEMENT INC.\\r', 'Company_Name_PERMAL GROUP INC\\r', 'Company_Name_PERMAL GROUP LTD.\\r', 'Company_Name_PERMAL INVESTMENT FUND SERVICES LIMITED\\r', 'Company_Name_PERRY CAPITAL\\r', 'Company_Name_PERSONNEL WELFARE FOUNDATION OF ROTHSCHILD BANK AG\\r', 'Company_Name_PICTET\\r', 'Company_Name_PICTET BANK & TRUST LTD.\\r', 'Company_Name_PIERSON HELDRING & PIERSON (LATER: FORTIS MEESPIERSON)\\r', 'Company_Name_PIMCO\\r', 'Company_Name_PINCHIN DENNY & CO\\r', 'Company_Name_PINE RIVER CAPITAL MANAGEMENT\\r', 'Company_Name_PIPER JAFFRAY\\r', 'Company_Name_PKO INVESTMENT FUND COMPANY (PKO TOWARZYSTWO FUNDUSZY INWESTYCYJNYCH SA)\\r', 'Company_Name_POLAR SECURITIES INC.\\r', 'Company_Name_PORTLAND MUSEUM OF ART\\r', 'Company_Name_PORTLAND SYMPHONY ORCHESTRA\\r', 'Company_Name_POTOMAC ELECTRIC POWER COMPANY\\r', 'Company_Name_PRICE WATERHOUSE\\r', 'Company_Name_PRINCETON HISTOICAL SOCIETY\\r', 'Company_Name_PRINCETON UNIVERSITY DEPARTMENT OF HISTORY ADVISORY COUNCIL\\r', 'Company_Name_PROMONTORY FINANCIAL GROUP LLC\\r', 'Company_Name_PROSPERITY INVESTIMENTOS\\r', 'Company_Name_PRUDENTIAL SECURITIES\\r', 'Company_Name_QUAY MAGNESIUM LTD\\r', 'Company_Name_RABOBANK NEDERLAND\\r', 'Company_Name_RBC CORPORATION\\r', 'Company_Name_RBC DOMINION SECURITIES LIMITED\\r', 'Company_Name_RBC INSURANCE\\r', 'Company_Name_RBC WEALTH MANAGEMENT\\r', 'Company_Name_RCS MEDIAGROUP\\r', 'Company_Name_REAL ESTATE CREDIT INVESTMENTS LIMITED\\r', 'Company_Name_REGIONAL FIRMS COMMITTE OF THE NEW YORK STOCK EXCHANGE\\r', 'Company_Name_RENAISSANCE CAPITAL\\r', 'Company_Name_REPRESENTACION B.P. EDMOND DE ROTHSCHILD S.A.\\r', 'Company_Name_REPUBLIC BANK OF NEW YORK\\r', 'Company_Name_REPUBLIC NATIONAL BANK OF NEW YORK S.A.\\r', 'Company_Name_RESOURCES FOR THE FUTURE\\r', 'Company_Name_RIT CAPITAL PARTNERS\\r', 'Company_Name_RMF INVESTMENT MANAGEMENT\\r', 'Company_Name_ROBERTSON STEPHENS\\r', 'Company_Name_ROCKEFELLER BROTHERS FUND\\r', 'Company_Name_ROTHSCHILD\\r', 'Company_Name_ROTHSCHILD BANK AG\\r', 'Company_Name_ROTHSCHILD BANK FOUNDATION\\r', 'Company_Name_ROTHSCHILD INVESTMENT TRUST PLC.\\r', 'Company_Name_ROTHSCHILD PRIVATE BANKING & TRUST\\r', 'Company_Name_ROTHSCHILD PRIVATE TRUST HOLDING AG\\r', 'Company_Name_ROTSCHILD HOLDING AG\\r', 'Company_Name_ROYAL COLLEGE OF SURGEONS\\r', 'Company_Name_ROYAL GREEN JACKETS\\r', 'Company_Name_S.A.R. ACADEMY\\r', 'Company_Name_S.G. WARBURG & CO\\r', 'Company_Name_SALOMON BROTHERS ASSET MANAGEMENT\\r', 'Company_Name_SALTUS\\r', 'Company_Name_SAMUEL WAXMAN CANCER RESEARCH FOUNDATION AT MT. SINAI HOSPITAL\\r', 'Company_Name_SANDOZPRODUCTS LIMITED\\r', 'Company_Name_SCHRETLEN AND CO.\\r', 'Company_Name_SCHRODER VENTURES INTERNATIONAL INVESTMENT TRUST PLC.\\r', 'Company_Name_SCHRODERS\\r', 'Company_Name_SCIENSYS\\r', 'Company_Name_SCS FINANCIAL SERVICES\\r', 'Company_Name_SCUDDER\\r', 'Company_Name_SCUDDER COMPANIES\\r', 'Company_Name_SCUDDER PRIVATE INVESTMENT COUNSEL\\r', 'Company_Name_SCUDDER VENTURE GROUP\\r', 'Company_Name_SCUDDER WEISEL CAPITAL\\r', 'Company_Name_SECURITIES AND EXCHANGE COMMISSION (SEC)\\r', 'Company_Name_SECURITIES AND INVESTMENT INSTITUTE\\r', 'Company_Name_SECURITIES FINANCE TRUST CO.\\r', 'Company_Name_SECURITIES INDUSTRY SSOCIATION\\r', 'Company_Name_SECURITIES INSTITUTE\\r', 'Company_Name_SG COWEN\\r', 'Company_Name_SHEARSON LEHMAN BROTHERS\\r', 'Company_Name_SHERBORNE INVESTORS A LIMITED\\r', 'Company_Name_SHINSEI BANK\\r', 'Company_Name_SICAVS / BANQUE NATIONALE DE PARIS GROUP (BNP)\\r', 'Company_Name_SIGMABLEYZER\\r', 'Company_Name_SIGNET GLOBAL FIXED INCOME STRATEGIES LIMITED\\r', 'Company_Name_SIGNET GROUP\\r', 'Company_Name_SLC ASSET MANAGEMENT\\r', 'Company_Name_SLOANE ROBINSON INVESTMENT MANAGEMENT LIMITED\\r', 'Company_Name_SOCIETE DE GESTION PRIVEE\\r', 'Company_Name_SOROS FUND MANAGEMENT\\r', 'Company_Name_SOUTHERN ROSLAG DISTRICT COURT\\r', 'Company_Name_ST. GALLISCHE CREDITANSTALT\\r', 'Company_Name_STANFORD BUSINESS SCHOOL TRUST\\r', 'Company_Name_STANFORD MANAGEMENT COMPANY\\r', 'Company_Name_STATE STREET BANK\\r', 'Company_Name_STEINHARDT FUND\\r', 'Company_Name_STENHAM\\r', 'Company_Name_STERLING INSURANCE GROUP LIMITED\\r', 'Company_Name_STIFEL NICOLAUS EUROPE LIMITED\\r', 'Company_Name_STONYBROOK - MILLSTONE WATERSHD ASSOCIATION\\r', 'Company_Name_SUMMERWOOD GROUP INC.\\r', 'Company_Name_SUNLIFE\\r', 'Company_Name_SWISS BANK CORPORATION\\r', 'Company_Name_SWISS BANKERS ASSOCIATION (SBA)\\r', 'Company_Name_SWISS FINANCE INSTITUTE\\r', 'Company_Name_SWISS INSURANCE ASSOCIATION\\r', 'Company_Name_SWISS LIFE\\r', 'Company_Name_SWISS LIFE AG\\r', 'Company_Name_SWISS LIFE COMPANIES\\r', 'Company_Name_SWISS LIFE GROUP\\r', 'Company_Name_SWISS LIFE SA\\r', 'Company_Name_SWISS SOCIETY FOR FINANCIAL MARKET RESEARCH\\r', 'Company_Name_SWX SWISS EXCHANGE\\r', 'Company_Name_SYZ & CO ASSET MANAGEMENT\\r', 'Company_Name_SYZ & CO BANK & TRUST LTD\\r', 'Company_Name_TANHURST INC.\\r', 'Company_Name_TEN ALPS COMMUNICATIONS PLC\\r', 'Company_Name_THATHCASTLE LIMITED\\r', 'Company_Name_THE BERMUDA TELEPHONE COMPANY LTD\\r', 'Company_Name_THE BRISTON PORT COMPANY (TRUSTEES) LIMITED\\r', 'Company_Name_THE DAILY PRINCETONIAN\\r', 'Company_Name_THE ECONOMIST\\r', 'Company_Name_THE INDIA FUND INC.\\r', 'Company_Name_THE INSTITUTE OF CHARTERED ACCOUNTANTS\\r', 'Company_Name_THE JOSLIN DIABETES CENTER\\r', 'Company_Name_THE ROCKEFELLER UNIVERSITY\\r', 'Company_Name_THE TEACH GREEN FOUNDATION\\r', 'Company_Name_THEGREAT HASELEY WINDMILL TRUST\\r', 'Company_Name_THIRD POINT OFFSHORE INVESTORS LIMITED\\r', 'Company_Name_THOMSON MCKINNON SECURITIES INC.\\r', 'Company_Name_THUNDERBIRD GLOBAL COUNCIL\\r', 'Company_Name_TRADING CAPITAL HOLDINGS\\r', 'Company_Name_TRADING CAPITAL HOLDINGS N.V.\\r', 'Company_Name_TRIBECA MANAGEMENT LLC\\r', 'Company_Name_TRINITY COLLEGE\\r', 'Company_Name_TRIUMPH CAPITAL\\r', 'Company_Name_TWIN CITIES SOCIETY OF SECURITIES ANALYSTS\\r', 'Company_Name_U.S. BANCORP PIPER JAFFRAY\\r', 'Company_Name_U.S. SYNTHETC FUNDS CORPROATION\\r', 'Company_Name_UBS\\r', 'Company_Name_UBS ASSET MANAGEMENT FRNACE\\r', 'Company_Name_UK FINANCIAL SERVICES COMPENSATION SCHEME *FORMERLY INVESTORS COMPENSATION SCHEME\\r', 'Company_Name_UK INSTITUTE OF DIRECTORS\\r', 'Company_Name_UNILEVER\\r', 'Company_Name_UNITED ASSET MANAGEMENT CORPORATION (UAM)\\r', 'Company_Name_UNITED STATES ARMY\\r', 'Company_Name_UNIVERSITY OF AIX-MARSEILLE\\r', 'Company_Name_UNIVERSITY OF APPLIED SCIENCES IN BUSINESS ADMINISTRATION ZURICH\\r', 'Company_Name_UNIVERSITY OF BRUSSELS LAW SCHOOL\\r', 'Company_Name_UNIVERSITY OF CONNECTICUT FOUNDATION\\r', 'Company_Name_UNIVERSITY OF LUXEMBOURG\\r', 'Company_Name_UNIVERSITY OF MINNESOTA\\r', 'Company_Name_UNIVERSITY OF PERPIGNAN\\r', 'Company_Name_UNUM PROVIDENT CORPORATION\\r', 'Company_Name_VARIOS COMPANIES\\r', 'Company_Name_VERBAND SCHWEIZERISCHER HOLDING UND FINANZGESELLSCHAFTEN AND BASEL\\r', 'Company_Name_VERONIS SUHLER STEVENSON\\r', 'Company_Name_VESTRA WEALTH\\r', 'Company_Name_VOLKSBANK\\r', 'Company_Name_VONTOBEL ASSET MANAGEMENT INC.\\r', 'Company_Name_VONTOBEL FONDS SERVICES AG\\r', 'Company_Name_VONTOBEL HOLDING AG\\r', 'Company_Name_VP BANK\\r', 'Company_Name_VP BANK LTD\\r', 'Company_Name_WACHOVIA SECURITIES\\r', 'Company_Name_WALKERS FUND SERVICES LIMITED\\r', 'Company_Name_WANGER ASSET MANAGEMENT\\r', 'Company_Name_WASHINGTON SUBURBAN SANITARY COMMISSION\\r', 'Company_Name_WATERFORD WEDGEWOOD PLC.\\r', 'Company_Name_WELLCOME TRUST\\r', 'Company_Name_WESTPAC BANKING CORPORATION\\r', 'Company_Name_WHITE WELD SECURITIES\\r', 'Company_Name_WHITNEY & COMPAN\\r', 'Company_Name_WINTERTHUR GROUP\\r', 'Company_Name_WINTERTHUR INSURANCE\\r', 'Company_Name_WINTERTHUR INVESTMENT MANAGEMENT CORP\\r', 'Company_Name_WINTERTHUR REINSURANCE CORP\\r', 'Company_Name_WOLF ASSET MANAGEMENT LLC\\r', 'Company_Name_WOLF RISK MANAGEMENT INVESTMENT SERVICES\\r', 'Company_Name_WOODS HOLE OCEANOGRAPHIC INSTITUTION\\r', 'Company_Name_WORCESTER BANCORP\\r', 'Company_Name_WURTH FINANCE INTERNATIONAL B.V.\\r', 'Company_Name_WYNNEFIELD PARTNERS SMALL CAP VALUE L.P.\\r', 'Company_Name_WYNNEFIELD PARTNERS SMALL CAP VALUE OFFSHORE FUND\\r', 'Company_Name_XEROX CORPORATION\\r', 'Company_Name_ZUKERMAN GORE & BRANDEIS LLP\\r', 'Resident_Country_Australia\\r', 'Resident_Country_Bahamas\\r', 'Resident_Country_Belgium\\r', 'Resident_Country_Bermuda\\r', 'Resident_Country_Brazil\\r', 'Resident_Country_Canada\\r', 'Resident_Country_Cayman Islands\\r', 'Resident_Country_France\\r', 'Resident_Country_Guernsey\\r', 'Resident_Country_Hong Kong\\r', 'Resident_Country_Ireland\\r', 'Resident_Country_Italy\\r', 'Resident_Country_Japan\\r', 'Resident_Country_Jersey\\r', 'Resident_Country_Luxembourg\\r', 'Resident_Country_Mexico\\r', 'Resident_Country_Monaco\\r', 'Resident_Country_Netherlands\\r', 'Resident_Country_Portugal\\r', 'Resident_Country_Singapore\\r', 'Resident_Country_Spain\\r', 'Resident_Country_Sweden\\r', 'Resident_Country_Switzerland\\r', 'Resident_Country_UK\\r', 'Resident_Country_USA\\r', 'Resident_Country_United Arab Emirates\\r']\n"
     ]
    }
   ],
   "source": [
    "# Preprocess feature columns \"Hot Encoding\"\n",
    "def preprocess_features(X):\n",
    "    outX = pd.DataFrame(index=X.index)  # output dataframe, initially empty\n",
    "\n",
    "    # Check each column\n",
    "    for col, col_data in X.iteritems():\n",
    "#         # If data type is non-numeric, try to replace all yes/no values with 1/0\n",
    "#         if col_data.dtype == object:\n",
    "#             col_data = col_data.replace(['yes', 'no'], [1, 0])\n",
    "#         # Note: This should change the data type for yes/no columns to int\n",
    "\n",
    "        # If still non-numeric, convert to one or more dummy variables\n",
    "#         if col_data.dtype == object:\n",
    "        col_data = pd.get_dummies(col_data, prefix=col)  # e.g. 'school' => 'school_GP', 'school_MS'\n",
    "\n",
    "        outX = outX.join(col_data)  # collect column(s) in output dataframe\n",
    "\n",
    "    return outX\n",
    "\n",
    "X_all = preprocess_features(X_all)\n",
    "# y_all = y_all.replace(['yes','no'],[1,0])\n",
    "print(\"Processed feature columns ({}):-\\n{}\".format(len(X_all.columns), list(X_all.columns)))"
   ]
  },
  {
   "cell_type": "code",
   "execution_count": 85,
   "metadata": {
    "collapsed": false
   },
   "outputs": [
    {
     "name": "stdout",
     "output_type": "stream",
     "text": [
      "Training set: 845 samples\n",
      "Test set: 282 samples\n"
     ]
    }
   ],
   "source": [
    "# First, decide how many training vs test samples you want\n",
    "num_all = df_directors.shape[0]  # same as len(student_data)\n",
    "num_train = int(.75 * num_all)  # about 75% of the data\n",
    "num_test = num_all - num_train\n",
    "\n",
    "# TODO: Then, select features (X) and corresponding labels (y) for the training and test sets\n",
    "# Note: Shuffle the data or randomly select samples to avoid any bias due to ordering in the dataset\n",
    "from sklearn.cross_validation import train_test_split\n",
    "X_train, X_test, y_train, y_test = train_test_split( X_all , y_all , test_size = num_test, random_state=42)\n",
    "\n",
    "print(\"Training set: {} samples\".format(X_train.shape[0]))\n",
    "print(\"Test set: {} samples\".format(X_test.shape[0]))\n",
    "# Note: If you need a validation set, extract it from within training data"
   ]
  },
  {
   "cell_type": "code",
   "execution_count": 86,
   "metadata": {
    "collapsed": true
   },
   "outputs": [],
   "source": [
    "# Train a model\n",
    "import time\n",
    "\n",
    "def train_classifier(clf, X_train, y_train):\n",
    "    #print \"Training {}...\".format(clf.__class__.__name__)\n",
    "    start = time.time()\n",
    "    clf.fit(X_train, y_train)\n",
    "    end = time.time()\n",
    "    #print \"Training time (secs): {:.7f}\".format(end - start)\n",
    "    return end-start"
   ]
  },
  {
   "cell_type": "code",
   "execution_count": 87,
   "metadata": {
    "collapsed": true
   },
   "outputs": [],
   "source": [
    "# Predict on training set and compute F1 score\n",
    "from sklearn.metrics import f1_score\n",
    "from sklearn.metrics import precision_score\n",
    "\n",
    "def predict_labels(clf, features, target):\n",
    "    #print \"Predicting labels using {}...\".format(clf.__class__.__name__)\n",
    "    start = time.time()\n",
    "    y_pred = clf.predict(features)\n",
    "    end = time.time()\n",
    "    #print \"Prediction time (secs): {:.7f}\".format(end - start)\n",
    "#     return precision_score(target.values, y_pred), end-start\n",
    "    return f1_score(target.values, y_pred, pos_label=1, average='weighted'), end-start"
   ]
  },
  {
   "cell_type": "code",
   "execution_count": 88,
   "metadata": {
    "collapsed": false
   },
   "outputs": [],
   "source": [
    "# Train and predict using different training set sizes\n",
    "def train_predict(clf, X_train, y_train, X_test, y_test):\n",
    "    #print \"------------------------------------------\"\n",
    "    #print \"Training set size: {}\".format(len(X_train))\n",
    "    training_time = train_classifier(clf, X_train, y_train)\n",
    "    F1_train, pred_time_train = predict_labels(clf, X_train, y_train)\n",
    "    F1_test, pred_time_test = predict_labels(clf, X_test, y_test)\n",
    "    print(\"{:d} | {:5f} | {:5f} / {:5f} | {:5f} / {:5f} \".format(len(X_train) ,\\\n",
    "                                                                 training_time,\\\n",
    "                                                                 pred_time_train,\\\n",
    "                                                                 pred_time_test,\\\n",
    "                                                                 F1_train, F1_test ))\n",
    "# TODO: Run the helper function above for desired subsets of training data\n",
    "# Note: Keep the test set constant"
   ]
  },
  {
   "cell_type": "code",
   "execution_count": 90,
   "metadata": {
    "collapsed": false
   },
   "outputs": [
    {
     "name": "stdout",
     "output_type": "stream",
     "text": [
      "Training KNeighborsClassifier...\n",
      "X_train_length | training_time / pred_time_train / pred_time_test | F1_train / F1_test\n",
      "100 | 0.001113 | 0.011172 / 0.030772 | 0.324912 / 0.093520 \n",
      "200 | 0.001931 | 0.043268 / 0.062452 | 0.502690 / 0.270610 \n"
     ]
    },
    {
     "name": "stderr",
     "output_type": "stream",
     "text": [
      "/usr/local/lib/python3.6/site-packages/sklearn/metrics/classification.py:1135: UndefinedMetricWarning: F-score is ill-defined and being set to 0.0 in labels with no predicted samples.\n",
      "  'precision', 'predicted', average, warn_for)\n",
      "/usr/local/lib/python3.6/site-packages/sklearn/metrics/classification.py:1137: UndefinedMetricWarning: F-score is ill-defined and being set to 0.0 in labels with no true samples.\n",
      "  'recall', 'true', average, warn_for)\n"
     ]
    },
    {
     "name": "stdout",
     "output_type": "stream",
     "text": [
      "300 | 0.003499 | 0.096789 / 0.084509 | 0.614627 / 0.432115 \n"
     ]
    }
   ],
   "source": [
    "# TODO: Train and predict using two other models\n",
    "# TODO: Choose a model, import it and instantiate an object\n",
    "num_train_arr = [100,200,300]\n",
    "\n",
    "from sklearn.neighbors import KNeighborsClassifier\n",
    "\n",
    "dt_clf = DecisionTreeClassifier(random_state = 32)\n",
    "nb_clf = BernoulliNB()\n",
    "knn_clf = KNeighborsClassifier(metric='jaccard')\n",
    "# clf_arr = [dt_clf,nb_clf,knn_clf]\n",
    "clf_arr = [knn_clf]\n",
    "\n",
    "\n",
    "\n",
    "for clf in clf_arr:\n",
    "    print(\"Training {}...\".format(clf.__class__.__name__))\n",
    "    print('X_train_length | training_time / pred_time_train / pred_time_test | F1_train / F1_test')\n",
    "    for num_train in num_train_arr:\n",
    "        f1_dt = train_predict( clf , X_train[0:num_train], y_train[0:num_train], X_test, y_test )\n",
    "\n"
   ]
  },
  {
   "cell_type": "code",
   "execution_count": 13,
   "metadata": {
    "collapsed": false
   },
   "outputs": [
    {
     "name": "stdout",
     "output_type": "stream",
     "text": [
      "0.683333333333\n"
     ]
    }
   ],
   "source": [
    "#Fitting k-NN to taining set\n",
    "from sklearn.neighbors import KNeighborsClassifier\n",
    "classifier = KNeighborsClassifier(metric='jaccard')\n",
    "classifier.fit(X_train[0:num_train], y_train[0:num_train])\n",
    "\n",
    "y_pred = classifier.predict(X_train[0:num_train])\n",
    "#MakingConfusionMatrix\n",
    "from sklearn.metrics import confusion_matrix\n",
    "cm = confusion_matrix(y_train[0:num_train],y_pred)\n",
    "\n",
    "print(classifier.score(X_train[0:num_train], y_train[0:num_train]))"
   ]
  },
  {
   "cell_type": "code",
   "execution_count": 14,
   "metadata": {
    "collapsed": false
   },
   "outputs": [
    {
     "name": "stdout",
     "output_type": "stream",
     "text": [
      "\n",
      "The accuracy of the knn classifier for k = 3 is 79%\n"
     ]
    },
    {
     "name": "stderr",
     "output_type": "stream",
     "text": [
      "/usr/local/lib/python3.6/site-packages/sklearn/cross_validation.py:553: Warning: The least populated class in y has only 1 members, which is too few. The minimum number of labels for any class cannot be less than n_folds=10.\n",
      "  % (min_labels, self.n_folds)), Warning)\n",
      "/usr/local/lib/python3.6/site-packages/sklearn/cross_validation.py:553: Warning: The least populated class in y has only 1 members, which is too few. The minimum number of labels for any class cannot be less than n_folds=10.\n",
      "  % (min_labels, self.n_folds)), Warning)\n",
      "/usr/local/lib/python3.6/site-packages/sklearn/cross_validation.py:553: Warning: The least populated class in y has only 1 members, which is too few. The minimum number of labels for any class cannot be less than n_folds=10.\n",
      "  % (min_labels, self.n_folds)), Warning)\n",
      "/usr/local/lib/python3.6/site-packages/sklearn/cross_validation.py:553: Warning: The least populated class in y has only 1 members, which is too few. The minimum number of labels for any class cannot be less than n_folds=10.\n",
      "  % (min_labels, self.n_folds)), Warning)\n",
      "/usr/local/lib/python3.6/site-packages/sklearn/cross_validation.py:553: Warning: The least populated class in y has only 1 members, which is too few. The minimum number of labels for any class cannot be less than n_folds=10.\n",
      "  % (min_labels, self.n_folds)), Warning)\n",
      "/usr/local/lib/python3.6/site-packages/sklearn/cross_validation.py:553: Warning: The least populated class in y has only 1 members, which is too few. The minimum number of labels for any class cannot be less than n_folds=10.\n",
      "  % (min_labels, self.n_folds)), Warning)\n",
      "/usr/local/lib/python3.6/site-packages/sklearn/cross_validation.py:553: Warning: The least populated class in y has only 1 members, which is too few. The minimum number of labels for any class cannot be less than n_folds=10.\n",
      "  % (min_labels, self.n_folds)), Warning)\n",
      "/usr/local/lib/python3.6/site-packages/sklearn/cross_validation.py:553: Warning: The least populated class in y has only 1 members, which is too few. The minimum number of labels for any class cannot be less than n_folds=10.\n",
      "  % (min_labels, self.n_folds)), Warning)\n",
      "/usr/local/lib/python3.6/site-packages/sklearn/cross_validation.py:553: Warning: The least populated class in y has only 1 members, which is too few. The minimum number of labels for any class cannot be less than n_folds=10.\n",
      "  % (min_labels, self.n_folds)), Warning)\n",
      "/usr/local/lib/python3.6/site-packages/sklearn/cross_validation.py:553: Warning: The least populated class in y has only 1 members, which is too few. The minimum number of labels for any class cannot be less than n_folds=10.\n",
      "  % (min_labels, self.n_folds)), Warning)\n",
      "/usr/local/lib/python3.6/site-packages/sklearn/cross_validation.py:553: Warning: The least populated class in y has only 1 members, which is too few. The minimum number of labels for any class cannot be less than n_folds=10.\n",
      "  % (min_labels, self.n_folds)), Warning)\n",
      "/usr/local/lib/python3.6/site-packages/sklearn/cross_validation.py:553: Warning: The least populated class in y has only 1 members, which is too few. The minimum number of labels for any class cannot be less than n_folds=10.\n",
      "  % (min_labels, self.n_folds)), Warning)\n",
      "/usr/local/lib/python3.6/site-packages/sklearn/cross_validation.py:553: Warning: The least populated class in y has only 1 members, which is too few. The minimum number of labels for any class cannot be less than n_folds=10.\n",
      "  % (min_labels, self.n_folds)), Warning)\n",
      "/usr/local/lib/python3.6/site-packages/sklearn/cross_validation.py:553: Warning: The least populated class in y has only 1 members, which is too few. The minimum number of labels for any class cannot be less than n_folds=10.\n",
      "  % (min_labels, self.n_folds)), Warning)\n",
      "/usr/local/lib/python3.6/site-packages/sklearn/cross_validation.py:553: Warning: The least populated class in y has only 1 members, which is too few. The minimum number of labels for any class cannot be less than n_folds=10.\n",
      "  % (min_labels, self.n_folds)), Warning)\n",
      "/usr/local/lib/python3.6/site-packages/sklearn/cross_validation.py:553: Warning: The least populated class in y has only 1 members, which is too few. The minimum number of labels for any class cannot be less than n_folds=10.\n",
      "  % (min_labels, self.n_folds)), Warning)\n",
      "/usr/local/lib/python3.6/site-packages/sklearn/cross_validation.py:553: Warning: The least populated class in y has only 1 members, which is too few. The minimum number of labels for any class cannot be less than n_folds=10.\n",
      "  % (min_labels, self.n_folds)), Warning)\n",
      "/usr/local/lib/python3.6/site-packages/sklearn/cross_validation.py:553: Warning: The least populated class in y has only 1 members, which is too few. The minimum number of labels for any class cannot be less than n_folds=10.\n",
      "  % (min_labels, self.n_folds)), Warning)\n",
      "/usr/local/lib/python3.6/site-packages/sklearn/cross_validation.py:553: Warning: The least populated class in y has only 1 members, which is too few. The minimum number of labels for any class cannot be less than n_folds=10.\n",
      "  % (min_labels, self.n_folds)), Warning)\n",
      "/usr/local/lib/python3.6/site-packages/sklearn/cross_validation.py:553: Warning: The least populated class in y has only 1 members, which is too few. The minimum number of labels for any class cannot be less than n_folds=10.\n",
      "  % (min_labels, self.n_folds)), Warning)\n",
      "/usr/local/lib/python3.6/site-packages/sklearn/cross_validation.py:553: Warning: The least populated class in y has only 1 members, which is too few. The minimum number of labels for any class cannot be less than n_folds=10.\n",
      "  % (min_labels, self.n_folds)), Warning)\n",
      "/usr/local/lib/python3.6/site-packages/sklearn/cross_validation.py:553: Warning: The least populated class in y has only 1 members, which is too few. The minimum number of labels for any class cannot be less than n_folds=10.\n",
      "  % (min_labels, self.n_folds)), Warning)\n",
      "/usr/local/lib/python3.6/site-packages/sklearn/cross_validation.py:553: Warning: The least populated class in y has only 1 members, which is too few. The minimum number of labels for any class cannot be less than n_folds=10.\n",
      "  % (min_labels, self.n_folds)), Warning)\n",
      "/usr/local/lib/python3.6/site-packages/sklearn/cross_validation.py:553: Warning: The least populated class in y has only 1 members, which is too few. The minimum number of labels for any class cannot be less than n_folds=10.\n",
      "  % (min_labels, self.n_folds)), Warning)\n",
      "/usr/local/lib/python3.6/site-packages/sklearn/cross_validation.py:553: Warning: The least populated class in y has only 1 members, which is too few. The minimum number of labels for any class cannot be less than n_folds=10.\n",
      "  % (min_labels, self.n_folds)), Warning)\n"
     ]
    },
    {
     "name": "stdout",
     "output_type": "stream",
     "text": [
      "\n",
      "The optimal number of neighbors is 3.\n"
     ]
    },
    {
     "data": {
      "image/png": "[encoded data removed]",
      "text/plain": [
       "<matplotlib.figure.Figure at 0x10e277d68>"
      ]
     },
     "metadata": {},
     "output_type": "display_data"
    }
   ],
   "source": [
    "import numpy as np\n",
    "import pandas as pd\n",
    "import matplotlib.pyplot as plt\n",
    "from sklearn.cross_validation import train_test_split\n",
    "from sklearn.neighbors import KNeighborsClassifier\n",
    "from sklearn.metrics import accuracy_score\n",
    "from sklearn.cross_validation import cross_val_score\n",
    "from collections import Counter\n",
    "\n",
    "# ============================== KNN with k = 3 ===============================================\n",
    "# instantiate learning model (k = 3)\n",
    "knn = KNeighborsClassifier(n_neighbors=3)\n",
    "\n",
    "# fitting the model\n",
    "knn.fit(X_train, y_train)\n",
    "\n",
    "# predict the response\n",
    "pred = knn.predict(X_test)\n",
    "\n",
    "# evaluate accuracy\n",
    "acc = accuracy_score(y_test, pred) * 100\n",
    "print('\\nThe accuracy of the knn classifier for k = 3 is %d%%' % acc)\n",
    "# ============================== parameter tuning =============================================\n",
    "# creating odd list of K for KNN\n",
    "myList = list(range(0,50))\n",
    "neighbors = list(filter(lambda x: x % 2 != 0, myList))\n",
    "\n",
    "# empty list that will hold cv scores\n",
    "cv_scores = []\n",
    "\n",
    "# perform 10-fold cross validation\n",
    "for k in neighbors:\n",
    "#     knn = KNeighborsClassifier(n_neighbors=k)\n",
    "    knn = KNeighborsClassifier(metric='jaccard', n_neighbors=k)\n",
    "    scores = cross_val_score(knn, X_train, y_train, cv=10, scoring='accuracy')\n",
    "    cv_scores.append(scores.mean())\n",
    "\n",
    "# changing to misclassification error\n",
    "MSE = [1 - x for x in cv_scores]\n",
    "\n",
    "# determining best k\n",
    "optimal_k = neighbors[MSE.index(min(MSE))]\n",
    "print('\\nThe optimal number of neighbors is %d.' % optimal_k)\n",
    "\n",
    "# plot misclassification error vs k \n",
    "plt.plot(neighbors, MSE)\n",
    "plt.xlabel('Number of Neighbors K')\n",
    "plt.ylabel('Misclassification Error')\n",
    "plt.show()"
   ]
  },
  {
   "cell_type": "code",
   "execution_count": 25,
   "metadata": {
    "collapsed": false
   },
   "outputs": [
    {
     "name": "stdout",
     "output_type": "stream",
     "text": [
      "[0.83687943262411346, 0.8014184397163121, 0.8014184397163121, 0.7978723404255319, 0.79078014184397161, 0.77304964539007093, 0.76950354609929073, 0.75886524822695034, 0.75886524822695034, 0.74468085106382975, 0.71985815602836878, 0.71985815602836878, 0.71631205673758869, 0.71276595744680848, 0.6985815602836879, 0.68794326241134751, 0.66666666666666663, 0.67021276595744683, 0.60992907801418439, 0.61702127659574468, 0.61702127659574468, 0.61347517730496459, 0.5957446808510638, 0.59219858156028371, 0.56737588652482274]\n"
     ]
    },
    {
     "data": {
      "image/png": "[encoded data removed]",
      "text/plain": [
       "<matplotlib.figure.Figure at 0x10f6dc7f0>"
      ]
     },
     "metadata": {},
     "output_type": "display_data"
    }
   ],
   "source": [
    "from sklearn import metrics\n",
    "import matplotlib.pyplot as plt\n",
    "plt.clf()\n",
    "#search for best k of k-nearest nieghbors\n",
    "k_range = range(1,26)\n",
    "scores=[]\n",
    "for k in k_range:\n",
    "  knn=KNeighborsClassifier(metric='jaccard', n_neighbors=k)\n",
    "  knn.fit(X_train,y_train)\n",
    "  pred=knn.predict(X_test)\n",
    "  scores.append(metrics.accuracy_score(y_test,pred) )\n",
    "print(scores)\n",
    "\n",
    "import matplotlib.pyplot as plt\n",
    "\n",
    "plt.plot(k_range,scores,'bo-')\n",
    "plt.xlabel('Value of k for KNN')\n",
    "plt.ylabel('Level of Accuracy %')\n",
    "plt.show()"
   ]
  },
  {
   "cell_type": "code",
   "execution_count": null,
   "metadata": {
    "collapsed": true
   },
   "outputs": [],
   "source": []
  }
 ],
 "metadata": {
  "kernelspec": {
   "display_name": "Python 3",
   "language": "python",
   "name": "python3"
  },
  "language_info": {
   "codemirror_mode": {
    "name": "ipython",
    "version": 3
   },
   "file_extension": ".py",
   "mimetype": "text/x-python",
   "name": "python",
   "nbconvert_exporter": "python",
   "pygments_lexer": "ipython3",
   "version": "3.6.0"
  }
 },
 "nbformat": 4,
 "nbformat_minor": 2
}
